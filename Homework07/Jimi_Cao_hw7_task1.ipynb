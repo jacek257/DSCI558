{
 "cells": [
  {
   "cell_type": "markdown",
   "metadata": {
    "id": "hTkVsbcKegOD"
   },
   "source": [
    "---\n",
    "# Task1: Getting Started with AmpliGraph\n",
    "---\n",
    "In this tutorial we will demonstrate how to use the AmpliGraph library. \n",
    "\n",
    "Things we will cover:\n",
    "\n",
    "1. Exploration of a graph dataset\n",
    "2. Splitting graph datasets into train and test sets\n",
    "3. Training a model\n",
    "4. Saving and restoring a model\n",
    "5. Evaluating a model\n",
    "6. Using link prediction to discover unknown relations\n",
    "7. Visualizing embeddings using Tensorboard\n",
    "\n",
    "---\n",
    "\n",
    "## Requirements\n",
    "\n",
    "A Python environment with the AmpliGraph library installed. Please follow [the install guide](http://docs.ampligraph.org/en/latest/install.html).\n",
    "\n"
   ]
  },
  {
   "cell_type": "markdown",
   "metadata": {
    "id": "xSgkd42Mj9EG"
   },
   "source": [
    "Some sanity check:"
   ]
  },
  {
   "cell_type": "code",
   "execution_count": 1,
   "metadata": {
    "id": "Ha8tDo-6RtS9"
   },
   "outputs": [],
   "source": [
    "%%capture \n",
    "!pip install ampligraph; "
   ]
  },
  {
   "cell_type": "code",
   "execution_count": 2,
   "metadata": {
    "colab": {
     "base_uri": "https://localhost:8080/",
     "height": 52
    },
    "id": "XKqvke5GRv14",
    "outputId": "d745caff-7049-4f36-ed0f-8aec97b63f30"
   },
   "outputs": [
    {
     "name": "stdout",
     "output_type": "stream",
     "text": [
      "TensorFlow 1.x selected.\n"
     ]
    },
    {
     "data": {
      "application/vnd.google.colaboratory.intrinsic+json": {
       "type": "string"
      },
      "text/plain": [
       "'1.3.2'"
      ]
     },
     "execution_count": 2,
     "metadata": {
      "tags": []
     },
     "output_type": "execute_result"
    }
   ],
   "source": [
    "%tensorflow_version 1.x \n",
    "import numpy as np\n",
    "import pandas as pd\n",
    "import ampligraph\n",
    "\n",
    "ampligraph.__version__"
   ]
  },
  {
   "cell_type": "markdown",
   "metadata": {
    "id": "E2zQO7QqjYQW"
   },
   "source": [
    "## 1. Dataset exploration"
   ]
  },
  {
   "cell_type": "markdown",
   "metadata": {
    "id": "rHKHL-tsJYeE"
   },
   "source": [
    "First things first! Lets import the required libraries and retrieve some data.\n",
    "\n",
    "In this tutorial we're going to use the [**Game of Thrones knowledge Graph**](https://ampligraph.s3-eu-west-1.amazonaws.com/datasets/GoT.csv). Please note: this isn't the *greatest* dataset for demonstrating the power of knowledge graph embeddings, but is small, intuitive and should be familiar to most users. \n",
    "\n",
    "We downloaded the [neo4j graph published here](https://github.com/neo4j-examples/game-of-thrones). Such dataset has been generated using [these APIs](https://anapioficeandfire.com/)  which expose in a machine-readable fashion the content of open free sources such as A [Wiki of Ice and Fire](http://awoiaf.westeros.org/). We discarded all properties and saved all the directed, labeled relations in a plaintext file. Each relation (i.e. a triple) is in the form: \n",
    "\n",
    "    <subject, predicate, object>\n",
    "\n",
    "The schema of the graph looks like this (image from [neo4j-examples/game-of-thrones](https://github.com/neo4j-examples/game-of-thrones)):\n",
    "\n",
    "\n",
    "\n",
    "![Game of Thrones](https://drive.google.com/uc?id=1AWwu97znjNRAhjuahuRzouUtMOKSqEG-)\n",
    "\n",
    "\n",
    "Run the following cell to pull down the dataset and load it in memory with AmpliGraph [`load_from_csv()`](http://docs.ampligraph.org/en/1.0.3/generated/ampligraph.datasets.load_from_csv.html#ampligraph.datasets.load_from_csv) utility function:"
   ]
  },
  {
   "cell_type": "code",
   "execution_count": 3,
   "metadata": {
    "colab": {
     "base_uri": "https://localhost:8080/"
    },
    "id": "IYLn3NXKegOm",
    "outputId": "7edf5ff6-76a5-46cf-c4dc-8ca592e04de5"
   },
   "outputs": [
    {
     "data": {
      "text/plain": [
       "array([['Smithyton', 'SEAT_OF', 'House Shermer of Smithyton'],\n",
       "       ['House Mormont of Bear Island', 'LED_BY', 'Maege Mormont'],\n",
       "       ['Margaery Tyrell', 'SPOUSE', 'Joffrey Baratheon'],\n",
       "       ['Maron Nymeros Martell', 'ALLIED_WITH',\n",
       "        'House Nymeros Martell of Sunspear'],\n",
       "       ['House Gargalen of Salt Shore', 'IN_REGION', 'Dorne']],\n",
       "      dtype=object)"
      ]
     },
     "execution_count": 3,
     "metadata": {
      "tags": []
     },
     "output_type": "execute_result"
    }
   ],
   "source": [
    "import requests\n",
    "from ampligraph.datasets import load_from_csv\n",
    "\n",
    "url = 'https://ampligraph.s3-eu-west-1.amazonaws.com/datasets/GoT.csv'\n",
    "open('GoT.csv', 'wb').write(requests.get(url).content)\n",
    "X = load_from_csv('.', 'GoT.csv', sep=',')\n",
    "X[:5, ]"
   ]
  },
  {
   "cell_type": "markdown",
   "metadata": {
    "id": "cEuP4TG6egPF"
   },
   "source": [
    "Let's list the subject and object entities found in the dataset:"
   ]
  },
  {
   "cell_type": "code",
   "execution_count": 4,
   "metadata": {
    "colab": {
     "base_uri": "https://localhost:8080/"
    },
    "id": "Oa5EU8R8egPH",
    "outputId": "a67f46b6-82a2-4b46-ded9-b4789bb44865"
   },
   "outputs": [
    {
     "data": {
      "text/plain": [
       "array(['Abelar Hightower', 'Acorn Hall', 'Addam Frey', ..., 'the Antlers',\n",
       "       'the Paps', 'unnamed tower'], dtype=object)"
      ]
     },
     "execution_count": 4,
     "metadata": {
      "tags": []
     },
     "output_type": "execute_result"
    }
   ],
   "source": [
    "entities = np.unique(np.concatenate([X[:, 0], X[:, 2]]))\n",
    "entities"
   ]
  },
  {
   "cell_type": "markdown",
   "metadata": {
    "id": "MKrD7K04egPS"
   },
   "source": [
    ".. and all of the relationships that link them. Remember, these relationships only link *some* of the entities."
   ]
  },
  {
   "cell_type": "code",
   "execution_count": 5,
   "metadata": {
    "colab": {
     "base_uri": "https://localhost:8080/"
    },
    "id": "cHzhvBhbegPX",
    "outputId": "5d0727cb-c649-4038-b129-6023c088aec3"
   },
   "outputs": [
    {
     "data": {
      "text/plain": [
       "array(['ALLIED_WITH', 'BRANCH_OF', 'FOUNDED_BY', 'HEIR_TO', 'IN_REGION',\n",
       "       'LED_BY', 'PARENT_OF', 'SEAT_OF', 'SPOUSE', 'SWORN_TO'],\n",
       "      dtype=object)"
      ]
     },
     "execution_count": 5,
     "metadata": {
      "tags": []
     },
     "output_type": "execute_result"
    }
   ],
   "source": [
    "relations = np.unique(X[:, 1])\n",
    "relations"
   ]
  },
  {
   "cell_type": "markdown",
   "metadata": {
    "id": "81NpVTA1egP5"
   },
   "source": [
    "---\n",
    "# 2. Defining train and test datasets"
   ]
  },
  {
   "cell_type": "markdown",
   "metadata": {
    "id": "flR0xOXmegP9"
   },
   "source": [
    "As is typical in machine learning, we need to split our dataset into training and test (and sometimes validation) datasets. What differs from the standard method of randomly sampling N points to make up our test set, is that our data points are two entities linked by some relationship, and we need to take care to ensure that all entities are represented in train and test sets by at least 1 triple. To accomplish AmpliGraph provides the `train_test_split_no_unseen` function. \n",
    "\n",
    "We'll stick to common practice and divide our training and test set in an 80/20 split. "
   ]
  },
  {
   "cell_type": "code",
   "execution_count": 6,
   "metadata": {
    "id": "4pgpcidHegQC"
   },
   "outputs": [],
   "source": [
    "from ampligraph.evaluation import train_test_split_no_unseen \n",
    "\n",
    "num_test = int(len(X) * (20 / 100))\n",
    "\n",
    "data = {}\n",
    "data['train'], data['test'] = train_test_split_no_unseen(X, test_size=num_test, seed=0, allow_duplication=False) "
   ]
  },
  {
   "cell_type": "markdown",
   "metadata": {
    "id": "PQJkziMCegQL"
   },
   "source": [
    "Our data is now split into train/test sets. If we need to further divide into a validation dataset we can just repeat using the same procedure on the test set (and adjusting the split percentages). "
   ]
  },
  {
   "cell_type": "code",
   "execution_count": 7,
   "metadata": {
    "colab": {
     "base_uri": "https://localhost:8080/"
    },
    "id": "ltijAdQtegQN",
    "outputId": "c337b054-3924-4bf3-a2da-e92ab96f582f"
   },
   "outputs": [
    {
     "name": "stdout",
     "output_type": "stream",
     "text": [
      "Train set size:  (2540, 3)\n",
      "Test set size:  (635, 3)\n"
     ]
    }
   ],
   "source": [
    "print('Train set size: ', data['train'].shape)\n",
    "print('Test set size: ', data['test'].shape)"
   ]
  },
  {
   "cell_type": "markdown",
   "metadata": {
    "id": "9qBTRJ57egQW"
   },
   "source": [
    "---\n",
    "# 3. Training a model \n",
    "\n",
    "AmpliGraph has implemented several Graph embedding models (TransE, ComplEx, DistMult, HolE), but to begin with we're just going to use the ComplEx model (with  default values), so lets import that:"
   ]
  },
  {
   "cell_type": "code",
   "execution_count": 8,
   "metadata": {
    "id": "0RshQCjgegQX"
   },
   "outputs": [],
   "source": [
    "from ampligraph.latent_features import ComplEx"
   ]
  },
  {
   "cell_type": "markdown",
   "metadata": {
    "id": "fgAcQ1g3egQe"
   },
   "source": [
    "Lets go through the parameters to understand what's going on:\n",
    "\n",
    "- **`k`** : the dimensionality of the embedding space\n",
    "- **`eta`** ($\\eta$) : the number of negative, or false triples that must be generated at training runtime for each positive, or true triple\n",
    "- **`batches_count`** : the number of batches in which the training set is split during the training loop. If you are having into low memory issues than settings this to a higher number may help.\n",
    "- **`epochs`** : the number of epochs to train the model for.\n",
    "- **`optimizer`** : the Adam optimizer, with a learning rate of 1e-3 set via the *optimizer_params* kwarg.\n",
    "- **`loss`** : pairwise loss, with a margin of 0.5 set via the *loss_params* kwarg.\n",
    "- **`regularizer`** : $L_p$ regularization with $p=2$, i.e. l2 regularization. $\\lambda$ = 1e-5, set via the *regularizer_params* kwarg. \n",
    "\n",
    "Now we can instantiate the model:\n"
   ]
  },
  {
   "cell_type": "code",
   "execution_count": 9,
   "metadata": {
    "id": "ap1Yd4LEegQg"
   },
   "outputs": [],
   "source": [
    "model = ComplEx(batches_count=100, \n",
    "                seed=0, \n",
    "                epochs=200, \n",
    "                k=150, \n",
    "                eta=5,\n",
    "                optimizer='adam', \n",
    "                optimizer_params={'lr':1e-3},\n",
    "                loss='multiclass_nll', \n",
    "                regularizer='LP', \n",
    "                regularizer_params={'p':3, 'lambda':1e-5}, \n",
    "                verbose=True)"
   ]
  },
  {
   "cell_type": "markdown",
   "metadata": {
    "id": "JaJeVr-megQq"
   },
   "source": [
    "## Filtering negatives\n",
    "\n",
    "AmpliGraph aims to follow scikit-learn's ease-of-use design philosophy and simplify everything down to **`fit`**, **`evaluate`**, and **`predict`** functions. \n",
    "\n",
    "However, there are some knowledge graph specific steps we must take to ensure our model can be trained and evaluated correctly. The first of these is defining the filter that will be used to ensure that no *negative* statements generated by the corruption procedure are actually positives. This is simply done by concatenating our train and test sets. Now when negative triples are generated by the corruption strategy, we can check that they aren't actually true statements.  \n"
   ]
  },
  {
   "cell_type": "code",
   "execution_count": 10,
   "metadata": {
    "id": "edjJcTReegQs"
   },
   "outputs": [],
   "source": [
    "positives_filter = X"
   ]
  },
  {
   "cell_type": "markdown",
   "metadata": {
    "id": "AcI2mTwSegRh"
   },
   "source": [
    "## Fitting the model\n",
    "\n",
    "Once you run the next cell the model will train. \n",
    "\n",
    "On a modern laptop this should take ~3 minutes (although your mileage may vary, especially if you've changed any of the hyper-parameters above)."
   ]
  },
  {
   "cell_type": "code",
   "execution_count": 11,
   "metadata": {
    "colab": {
     "base_uri": "https://localhost:8080/"
    },
    "id": "CebLOmJWegRj",
    "outputId": "fe6da3bb-2d1d-4ac0-e1c4-8428c556b4a5"
   },
   "outputs": [
    {
     "name": "stderr",
     "output_type": "stream",
     "text": [
      "Average Loss:   0.021658: 100%|██████████| 200/200 [01:15<00:00,  2.64epoch/s]\n"
     ]
    }
   ],
   "source": [
    "import tensorflow as tf\n",
    "tf.logging.set_verbosity(tf.logging.ERROR)\n",
    "\n",
    "model.fit(data['train'], early_stopping = False)"
   ]
  },
  {
   "cell_type": "markdown",
   "metadata": {
    "id": "89U5Ck5GegSn"
   },
   "source": [
    "---\n",
    "# 4.  Saving and restoring a model\n",
    "\n",
    "Before we go any further, let's save the best model found so that we can restore it in future."
   ]
  },
  {
   "cell_type": "code",
   "execution_count": 12,
   "metadata": {
    "id": "Hf4SqCrSegSq"
   },
   "outputs": [],
   "source": [
    "from ampligraph.latent_features import save_model, restore_model"
   ]
  },
  {
   "cell_type": "markdown",
   "metadata": {
    "id": "20A3h6X_egSy"
   },
   "source": [
    "This will save the model in the ampligraph_tutorial directory as *model.pickle*."
   ]
  },
  {
   "cell_type": "code",
   "execution_count": 13,
   "metadata": {
    "id": "2InkMwHVegS0"
   },
   "outputs": [],
   "source": [
    "save_model(model, './best_model.pkl')"
   ]
  },
  {
   "cell_type": "markdown",
   "metadata": {
    "id": "tUdlNTiLegS3"
   },
   "source": [
    ".. we can then delete the model .. "
   ]
  },
  {
   "cell_type": "code",
   "execution_count": 14,
   "metadata": {
    "id": "QFWnBc_cegS3"
   },
   "outputs": [],
   "source": [
    "del model"
   ]
  },
  {
   "cell_type": "markdown",
   "metadata": {
    "id": "1fwMT87iegS7"
   },
   "source": [
    ".. and then restore it from disk! Ta-da! "
   ]
  },
  {
   "cell_type": "code",
   "execution_count": 15,
   "metadata": {
    "id": "siCZ7ftLegS8"
   },
   "outputs": [],
   "source": [
    "model = restore_model('./best_model.pkl')"
   ]
  },
  {
   "cell_type": "markdown",
   "metadata": {
    "id": "Jn638zNuegTA"
   },
   "source": [
    "And let's just double check that the model we restored has been fit:"
   ]
  },
  {
   "cell_type": "code",
   "execution_count": 16,
   "metadata": {
    "colab": {
     "base_uri": "https://localhost:8080/"
    },
    "id": "BON6T8HTegTA",
    "outputId": "8e40bbc2-9beb-45ad-8606-37989b65944f"
   },
   "outputs": [
    {
     "name": "stdout",
     "output_type": "stream",
     "text": [
      "The model is fit!\n"
     ]
    }
   ],
   "source": [
    "if model.is_fitted:\n",
    "    print('The model is fit!')\n",
    "else:\n",
    "    print('The model is not fit! Did you skip a step?')"
   ]
  },
  {
   "cell_type": "markdown",
   "metadata": {
    "id": "5vZ3wn9xegTH"
   },
   "source": [
    "---\n",
    "# 5. Evaluating a model\n",
    "\n",
    "Now it's time to evaluate our model on the test set to see how well it's performing. \n",
    "\n",
    "For this we'll use the `evaluate_performance` function:"
   ]
  },
  {
   "cell_type": "code",
   "execution_count": 17,
   "metadata": {
    "id": "DcjRY2UqegTI"
   },
   "outputs": [],
   "source": [
    "from ampligraph.evaluation import evaluate_performance"
   ]
  },
  {
   "cell_type": "markdown",
   "metadata": {
    "id": "Lmrv9GkWegTL"
   },
   "source": [
    "And let's look at the arguments to this function:\n",
    "\n",
    "- **`X`** - the data to evaluate on. We're going to use our test set to evaluate.\n",
    "- **`model`** - the model we previously trained.\n",
    "- **`filter_triples`** - will filter out the false negatives generated by the corruption strategy. \n",
    "- **`use_default_protocol`** - specifies whether to use the default corruption protocol. If True, then subj and obj are corrupted separately during evaluation.\n",
    "- **`verbose`** - will give some nice log statements. Let's leave it on for now.\n"
   ]
  },
  {
   "cell_type": "markdown",
   "metadata": {
    "id": "hKTpMvV8egTM"
   },
   "source": [
    "## Running evaluation"
   ]
  },
  {
   "cell_type": "code",
   "execution_count": 18,
   "metadata": {
    "colab": {
     "base_uri": "https://localhost:8080/"
    },
    "id": "n1uWY6kdegTN",
    "outputId": "38ef916c-4f7a-4ba5-e1b5-04cf1cb475c9"
   },
   "outputs": [
    {
     "name": "stdout",
     "output_type": "stream",
     "text": [
      "WARNING - DeprecationWarning: use_default_protocol will be removed in future. Please use corrupt_side argument instead.\n"
     ]
    },
    {
     "name": "stderr",
     "output_type": "stream",
     "text": [
      "100%|██████████| 635/635 [00:02<00:00, 291.23it/s]\n"
     ]
    }
   ],
   "source": [
    "ranks = evaluate_performance(data['test'], \n",
    "                             model=model, \n",
    "                             filter_triples=positives_filter,   # Corruption strategy filter defined above \n",
    "                             use_default_protocol=True, # corrupt subj and obj separately while evaluating\n",
    "                             verbose=True)"
   ]
  },
  {
   "cell_type": "markdown",
   "metadata": {
    "id": "hFPOvdFZegTX"
   },
   "source": [
    "\n",
    "The ***ranks*** returned by the evaluate_performance function indicate the rank at which the test set triple was found when performing link prediction using the model. \n",
    "\n",
    "For example, given the triple:\n",
    "\n",
    "    <House Stark of Winterfell, IN_REGION The North>\n",
    "    \n",
    "The model returns a rank of 7. This tells us that while it's not the highest likelihood true statement (which would be given a rank 1), it's pretty likely.\n"
   ]
  },
  {
   "cell_type": "markdown",
   "metadata": {
    "id": "r5-RjV2iegTc"
   },
   "source": [
    "## Metrics\n",
    "Let's compute some evaluate metrics and print them out.\n",
    "\n",
    "We're going to use the mrr_score (mean reciprocal rank) and hits_at_n_score functions. \n",
    "\n",
    "- ***mrr_score***:  The function computes the mean of the reciprocal of elements of a vector of rankings ranks.\n",
    "- ***hits_at_n_score***: The function computes how many elements of a vector of rankings ranks make it to the top n positions.\n"
   ]
  },
  {
   "cell_type": "code",
   "execution_count": 19,
   "metadata": {
    "colab": {
     "base_uri": "https://localhost:8080/"
    },
    "id": "ULu0QqJeegTd",
    "outputId": "555ec83d-f07d-40d0-e27c-5e3c5f18f81c"
   },
   "outputs": [
    {
     "name": "stdout",
     "output_type": "stream",
     "text": [
      "MRR: 0.30\n",
      "Hits@10: 0.41\n",
      "Hits@3: 0.33\n",
      "Hits@1: 0.24\n"
     ]
    }
   ],
   "source": [
    "from ampligraph.evaluation import mr_score, mrr_score, hits_at_n_score\n",
    "\n",
    "mrr = mrr_score(ranks)\n",
    "print(\"MRR: %.2f\" % (mrr))\n",
    "\n",
    "hits_10 = hits_at_n_score(ranks, n=10)\n",
    "print(\"Hits@10: %.2f\" % (hits_10))\n",
    "hits_3 = hits_at_n_score(ranks, n=3)\n",
    "print(\"Hits@3: %.2f\" % (hits_3))\n",
    "hits_1 = hits_at_n_score(ranks, n=1)\n",
    "print(\"Hits@1: %.2f\" % (hits_1))"
   ]
  },
  {
   "cell_type": "markdown",
   "metadata": {
    "id": "6qf-59ipegTo"
   },
   "source": [
    "\n",
    "# 6. Predicting New Links\n",
    "\n",
    "Link prediction allows us to infer missing links in a graph. This has many real-world use cases, such as predicting connections between people in a social network, interactions between proteins in a biological network, and music recommendation based on prior user taste. \n",
    "\n",
    "In our case, we're going to see which of the following candidate statements (that we made up) are more likely to be true:\n"
   ]
  },
  {
   "cell_type": "code",
   "execution_count": 20,
   "metadata": {
    "id": "JW0IVcvjegTr"
   },
   "outputs": [],
   "source": [
    "X_unseen = np.array([\n",
    "    ['Jorah Mormont', 'SPOUSE', 'Daenerys Targaryen'],\n",
    "    ['Tyrion Lannister', 'SPOUSE', 'Missandei'],\n",
    "    [\"King's Landing\", 'SEAT_OF', 'House Lannister of Casterly Rock'],\n",
    "    ['Sansa Stark', 'SPOUSE', 'Petyr Baelish'],\n",
    "    ['Daenerys Targaryen', 'SPOUSE', 'Jon Snow'],\n",
    "    ['Daenerys Targaryen', 'SPOUSE', 'Craster'],\n",
    "    ['House Stark of Winterfell', 'IN_REGION', 'The North'],\n",
    "    ['House Stark of Winterfell', 'IN_REGION', 'Dorne'],\n",
    "    ['House Tyrell of Highgarden', 'IN_REGION', 'Beyond the Wall'],\n",
    "    ['Brandon Stark', 'ALLIED_WITH', 'House Stark of Winterfell'],\n",
    "    ['Brandon Stark', 'ALLIED_WITH', 'House Lannister of Casterly Rock'],    \n",
    "    ['Rhaegar Targaryen', 'PARENT_OF', 'Jon Snow'],\n",
    "    ['House Hutcheson', 'SWORN_TO', 'House Tyrell of Highgarden'],\n",
    "    ['Daenerys Targaryen', 'ALLIED_WITH', 'House Stark of Winterfell'],\n",
    "    ['Daenerys Targaryen', 'ALLIED_WITH', 'House Lannister of Casterly Rock'],\n",
    "    ['Jaime Lannister', 'PARENT_OF', 'Myrcella Baratheon'],\n",
    "    ['Robert I Baratheon', 'PARENT_OF', 'Myrcella Baratheon'],\n",
    "    ['Cersei Lannister', 'PARENT_OF', 'Myrcella Baratheon'],\n",
    "    ['Cersei Lannister', 'PARENT_OF', 'Brandon Stark'],\n",
    "    [\"Tywin Lannister\", 'PARENT_OF', 'Jaime Lannister'],\n",
    "    [\"Missandei\", 'SPOUSE', 'Grey Worm'],\n",
    "    [\"Brienne of Tarth\", 'SPOUSE', 'Jaime Lannister']\n",
    "])"
   ]
  },
  {
   "cell_type": "code",
   "execution_count": 21,
   "metadata": {
    "id": "V4berhGdNK9_"
   },
   "outputs": [],
   "source": [
    "unseen_filter = np.array(list({tuple(i) for i in np.vstack((positives_filter, X_unseen))}))"
   ]
  },
  {
   "cell_type": "code",
   "execution_count": 22,
   "metadata": {
    "colab": {
     "base_uri": "https://localhost:8080/"
    },
    "id": "qqF540UmNOW0",
    "outputId": "a304e064-2643-45db-ae51-2758e33891b1"
   },
   "outputs": [
    {
     "name": "stderr",
     "output_type": "stream",
     "text": [
      "100%|██████████| 22/22 [00:00<00:00, 158.67it/s]\n"
     ]
    }
   ],
   "source": [
    "ranks_unseen = evaluate_performance(\n",
    "    X_unseen, \n",
    "    model=model, \n",
    "    filter_triples=unseen_filter,   # Corruption strategy filter defined above \n",
    "    corrupt_side = 's+o',\n",
    "    use_default_protocol=False, # corrupt subj and obj separately while evaluating\n",
    "    verbose=True\n",
    ")"
   ]
  },
  {
   "cell_type": "code",
   "execution_count": 23,
   "metadata": {
    "id": "ZjSa4sJxegTv"
   },
   "outputs": [],
   "source": [
    "scores = model.predict(X_unseen)"
   ]
  },
  {
   "cell_type": "markdown",
   "metadata": {
    "id": "VDGYo-zbegT0"
   },
   "source": [
    "We transform the scores (real numbers) into probabilities (bound between 0 and 1) using the expit transform.\n",
    "\n",
    "Note that the probabilities are not calibrated in any sense. \n",
    "\n",
    "Advanced note: To calibrate the probabilities, one may use a procedure such as [Platt scaling](https://en.wikipedia.org/wiki/Platt_scaling) or [Isotonic regression](https://en.wikipedia.org/wiki/Isotonic_regression). The challenge is to define what is a true triple and what is a false one, as the calibration of the probability of a triple being true depends on the base rate of positives and negatives."
   ]
  },
  {
   "cell_type": "code",
   "execution_count": 24,
   "metadata": {
    "id": "f0wD5YkbegT1"
   },
   "outputs": [],
   "source": [
    "from scipy.special import expit\n",
    "probs = expit(scores)"
   ]
  },
  {
   "cell_type": "code",
   "execution_count": 25,
   "metadata": {
    "colab": {
     "base_uri": "https://localhost:8080/",
     "height": 731
    },
    "id": "G1phXrSeegT6",
    "outputId": "db02a165-4dce-4fcb-95d6-2c00169e3d69",
    "scrolled": true
   },
   "outputs": [
    {
     "data": {
      "text/html": [
       "<div>\n",
       "<style scoped>\n",
       "    .dataframe tbody tr th:only-of-type {\n",
       "        vertical-align: middle;\n",
       "    }\n",
       "\n",
       "    .dataframe tbody tr th {\n",
       "        vertical-align: top;\n",
       "    }\n",
       "\n",
       "    .dataframe thead th {\n",
       "        text-align: right;\n",
       "    }\n",
       "</style>\n",
       "<table border=\"1\" class=\"dataframe\">\n",
       "  <thead>\n",
       "    <tr style=\"text-align: right;\">\n",
       "      <th></th>\n",
       "      <th>statement</th>\n",
       "      <th>rank</th>\n",
       "      <th>score</th>\n",
       "      <th>prob</th>\n",
       "    </tr>\n",
       "  </thead>\n",
       "  <tbody>\n",
       "    <tr>\n",
       "      <th>10</th>\n",
       "      <td>Brandon Stark ALLIED_WITH House Lannister of C...</td>\n",
       "      <td>3978</td>\n",
       "      <td>-2.694559</td>\n",
       "      <td>0.063295</td>\n",
       "    </tr>\n",
       "    <tr>\n",
       "      <th>18</th>\n",
       "      <td>Cersei Lannister PARENT_OF Brandon Stark</td>\n",
       "      <td>4082</td>\n",
       "      <td>-1.741662</td>\n",
       "      <td>0.149102</td>\n",
       "    </tr>\n",
       "    <tr>\n",
       "      <th>1</th>\n",
       "      <td>Tyrion Lannister SPOUSE Missandei</td>\n",
       "      <td>4044</td>\n",
       "      <td>-1.638201</td>\n",
       "      <td>0.162710</td>\n",
       "    </tr>\n",
       "    <tr>\n",
       "      <th>0</th>\n",
       "      <td>Jorah Mormont SPOUSE Daenerys Targaryen</td>\n",
       "      <td>3588</td>\n",
       "      <td>-0.651609</td>\n",
       "      <td>0.342627</td>\n",
       "    </tr>\n",
       "    <tr>\n",
       "      <th>7</th>\n",
       "      <td>House Stark of Winterfell IN_REGION Dorne</td>\n",
       "      <td>3186</td>\n",
       "      <td>-0.619020</td>\n",
       "      <td>0.350004</td>\n",
       "    </tr>\n",
       "    <tr>\n",
       "      <th>21</th>\n",
       "      <td>Brienne of Tarth SPOUSE Jaime Lannister</td>\n",
       "      <td>2888</td>\n",
       "      <td>-0.275130</td>\n",
       "      <td>0.431648</td>\n",
       "    </tr>\n",
       "    <tr>\n",
       "      <th>11</th>\n",
       "      <td>Rhaegar Targaryen PARENT_OF Jon Snow</td>\n",
       "      <td>3217</td>\n",
       "      <td>-0.190394</td>\n",
       "      <td>0.452545</td>\n",
       "    </tr>\n",
       "    <tr>\n",
       "      <th>4</th>\n",
       "      <td>Daenerys Targaryen SPOUSE Jon Snow</td>\n",
       "      <td>2349</td>\n",
       "      <td>-0.099794</td>\n",
       "      <td>0.475072</td>\n",
       "    </tr>\n",
       "    <tr>\n",
       "      <th>13</th>\n",
       "      <td>Daenerys Targaryen ALLIED_WITH House Stark of ...</td>\n",
       "      <td>1739</td>\n",
       "      <td>-0.062738</td>\n",
       "      <td>0.484321</td>\n",
       "    </tr>\n",
       "    <tr>\n",
       "      <th>2</th>\n",
       "      <td>King's Landing SEAT_OF House Lannister of Cast...</td>\n",
       "      <td>1753</td>\n",
       "      <td>0.020581</td>\n",
       "      <td>0.505145</td>\n",
       "    </tr>\n",
       "    <tr>\n",
       "      <th>8</th>\n",
       "      <td>House Tyrell of Highgarden IN_REGION Beyond th...</td>\n",
       "      <td>1722</td>\n",
       "      <td>0.024232</td>\n",
       "      <td>0.506058</td>\n",
       "    </tr>\n",
       "    <tr>\n",
       "      <th>15</th>\n",
       "      <td>Jaime Lannister PARENT_OF Myrcella Baratheon</td>\n",
       "      <td>1368</td>\n",
       "      <td>0.127646</td>\n",
       "      <td>0.531868</td>\n",
       "    </tr>\n",
       "    <tr>\n",
       "      <th>9</th>\n",
       "      <td>Brandon Stark ALLIED_WITH House Stark of Winte...</td>\n",
       "      <td>900</td>\n",
       "      <td>0.505218</td>\n",
       "      <td>0.623685</td>\n",
       "    </tr>\n",
       "    <tr>\n",
       "      <th>5</th>\n",
       "      <td>Daenerys Targaryen SPOUSE Craster</td>\n",
       "      <td>1012</td>\n",
       "      <td>0.537792</td>\n",
       "      <td>0.631299</td>\n",
       "    </tr>\n",
       "    <tr>\n",
       "      <th>6</th>\n",
       "      <td>House Stark of Winterfell IN_REGION The North</td>\n",
       "      <td>297</td>\n",
       "      <td>1.001102</td>\n",
       "      <td>0.731275</td>\n",
       "    </tr>\n",
       "    <tr>\n",
       "      <th>19</th>\n",
       "      <td>Tywin Lannister PARENT_OF Jaime Lannister</td>\n",
       "      <td>50</td>\n",
       "      <td>1.219290</td>\n",
       "      <td>0.771939</td>\n",
       "    </tr>\n",
       "    <tr>\n",
       "      <th>3</th>\n",
       "      <td>Sansa Stark SPOUSE Petyr Baelish</td>\n",
       "      <td>87</td>\n",
       "      <td>1.409719</td>\n",
       "      <td>0.803722</td>\n",
       "    </tr>\n",
       "    <tr>\n",
       "      <th>17</th>\n",
       "      <td>Cersei Lannister PARENT_OF Myrcella Baratheon</td>\n",
       "      <td>18</td>\n",
       "      <td>1.458498</td>\n",
       "      <td>0.811303</td>\n",
       "    </tr>\n",
       "    <tr>\n",
       "      <th>14</th>\n",
       "      <td>Daenerys Targaryen ALLIED_WITH House Lannister...</td>\n",
       "      <td>100</td>\n",
       "      <td>1.606485</td>\n",
       "      <td>0.832923</td>\n",
       "    </tr>\n",
       "    <tr>\n",
       "      <th>16</th>\n",
       "      <td>Robert I Baratheon PARENT_OF Myrcella Baratheon</td>\n",
       "      <td>10</td>\n",
       "      <td>1.817110</td>\n",
       "      <td>0.860219</td>\n",
       "    </tr>\n",
       "    <tr>\n",
       "      <th>20</th>\n",
       "      <td>Missandei SPOUSE Grey Worm</td>\n",
       "      <td>74</td>\n",
       "      <td>1.906687</td>\n",
       "      <td>0.870647</td>\n",
       "    </tr>\n",
       "    <tr>\n",
       "      <th>12</th>\n",
       "      <td>House Hutcheson SWORN_TO House Tyrell of Highg...</td>\n",
       "      <td>14</td>\n",
       "      <td>2.056872</td>\n",
       "      <td>0.886640</td>\n",
       "    </tr>\n",
       "  </tbody>\n",
       "</table>\n",
       "</div>"
      ],
      "text/plain": [
       "                                            statement  rank     score      prob\n",
       "10  Brandon Stark ALLIED_WITH House Lannister of C...  3978 -2.694559  0.063295\n",
       "18           Cersei Lannister PARENT_OF Brandon Stark  4082 -1.741662  0.149102\n",
       "1                   Tyrion Lannister SPOUSE Missandei  4044 -1.638201  0.162710\n",
       "0             Jorah Mormont SPOUSE Daenerys Targaryen  3588 -0.651609  0.342627\n",
       "7           House Stark of Winterfell IN_REGION Dorne  3186 -0.619020  0.350004\n",
       "21            Brienne of Tarth SPOUSE Jaime Lannister  2888 -0.275130  0.431648\n",
       "11               Rhaegar Targaryen PARENT_OF Jon Snow  3217 -0.190394  0.452545\n",
       "4                  Daenerys Targaryen SPOUSE Jon Snow  2349 -0.099794  0.475072\n",
       "13  Daenerys Targaryen ALLIED_WITH House Stark of ...  1739 -0.062738  0.484321\n",
       "2   King's Landing SEAT_OF House Lannister of Cast...  1753  0.020581  0.505145\n",
       "8   House Tyrell of Highgarden IN_REGION Beyond th...  1722  0.024232  0.506058\n",
       "15       Jaime Lannister PARENT_OF Myrcella Baratheon  1368  0.127646  0.531868\n",
       "9   Brandon Stark ALLIED_WITH House Stark of Winte...   900  0.505218  0.623685\n",
       "5                   Daenerys Targaryen SPOUSE Craster  1012  0.537792  0.631299\n",
       "6       House Stark of Winterfell IN_REGION The North   297  1.001102  0.731275\n",
       "19          Tywin Lannister PARENT_OF Jaime Lannister    50  1.219290  0.771939\n",
       "3                    Sansa Stark SPOUSE Petyr Baelish    87  1.409719  0.803722\n",
       "17      Cersei Lannister PARENT_OF Myrcella Baratheon    18  1.458498  0.811303\n",
       "14  Daenerys Targaryen ALLIED_WITH House Lannister...   100  1.606485  0.832923\n",
       "16    Robert I Baratheon PARENT_OF Myrcella Baratheon    10  1.817110  0.860219\n",
       "20                         Missandei SPOUSE Grey Worm    74  1.906687  0.870647\n",
       "12  House Hutcheson SWORN_TO House Tyrell of Highg...    14  2.056872  0.886640"
      ]
     },
     "execution_count": 25,
     "metadata": {
      "tags": []
     },
     "output_type": "execute_result"
    }
   ],
   "source": [
    "pd.DataFrame(list(zip([' '.join(x) for x in X_unseen], \n",
    "                      ranks_unseen, \n",
    "                      np.squeeze(scores),\n",
    "                      np.squeeze(probs))), \n",
    "             columns=['statement', 'rank', 'score', 'prob']).sort_values(\"score\")"
   ]
  },
  {
   "cell_type": "markdown",
   "metadata": {
    "id": "R6t1peSpODTa"
   },
   "source": [
    "We see that the embeddings captured some truths about Westeros. For example, **House Stark is placed in the North rather than Dorne**. It also realises **Daenerys Targaryen has no relation with Craster**, **nor Tyrion with Missandei**. It captures random trivia, as **House Hutcheson is indeed in the Reach and sworn to the Tyrells**. On the other hand, some marriages that it predicts never really happened. These mistakes are understandable: those characters were indeed close and appeared together in many different circumstances. "
   ]
  },
  {
   "cell_type": "markdown",
   "metadata": {
    "id": "FCD_uxqDegT_"
   },
   "source": [
    "---\n",
    "# 7. Visualizing Embeddings with Tensorboard projector \n",
    "\n",
    "The kind folks at Google have created [Tensorboard](https://www.tensorflow.org/tensorboard), which allows us to graph how our model is learning (or .. not :|), peer into the innards of neural networks, and [visualize high-dimensional embeddings in the browser](https://projector.tensorflow.org/).   \n",
    "\n",
    "Lets import the [`create_tensorboard_visualization`](http://docs.ampligraph.org/en/1.0.3/generated/ampligraph.utils.create_tensorboard_visualizations.html#ampligraph.utils.create_tensorboard_visualizations) function, which simplifies the creation of the files necessary for Tensorboard to display the embeddings."
   ]
  },
  {
   "cell_type": "code",
   "execution_count": 26,
   "metadata": {
    "id": "HbvX44gdegUA"
   },
   "outputs": [],
   "source": [
    "from ampligraph.utils import create_tensorboard_visualizations"
   ]
  },
  {
   "cell_type": "markdown",
   "metadata": {
    "id": "g2MnRrb2egUD"
   },
   "source": [
    "And now we'll run the function with our model, specifying the output path:"
   ]
  },
  {
   "cell_type": "code",
   "execution_count": 27,
   "metadata": {
    "id": "s1z0VrWRegUD"
   },
   "outputs": [],
   "source": [
    "create_tensorboard_visualizations(model, 'GoT_embeddings')"
   ]
  },
  {
   "cell_type": "markdown",
   "metadata": {
    "id": "y8P-6-spq2ky"
   },
   "source": [
    "If all went well, we should now have a number of files in the `AmpliGraph/tutorials/GoT_embeddings` directory:\n",
    "\n",
    "```\n",
    "GoT_embeddings/\n",
    "    ├── checkpoint\n",
    "    ├── embeddings_projector.tsv\n",
    "    ├── graph_embedding.ckpt.data-00000-of-00001\n",
    "    ├── graph_embedding.ckpt.index\n",
    "    ├── graph_embedding.ckpt.meta\n",
    "    ├── metadata.tsv\n",
    "    └── projector_config.pbtxt\n",
    "```\n",
    "\n",
    "To visualize the embeddings in Tensorboard, run the following from your command line inside `AmpliGraph/tutorials`:\n",
    "\n",
    "```bash\n",
    "tensorboard --logdir=./visualizations\n",
    "```\n",
    "    \n",
    ".. and once your browser opens up you should be able to see and explore your embeddings as below (PCA-reduced, two components):\n",
    "\n",
    "![GoT Tensorboard plot](https://drive.google.com/uc?id=1LL11W7VtsabugOpg9NutuxD1l7lZI1zg)\n",
    "\n",
    "---\n",
    "# The End\n",
    "\n",
    "You made it to the end! Well done!\n",
    "\n",
    "For more information please visit the [AmpliGraph GitHub](github.com/Accenture/AmpliGraph) (and remember to star the project!), or check out the [documentation](docs.ampligraph.org) \n",
    "\n",
    "---"
   ]
  },
  {
   "cell_type": "markdown",
   "metadata": {
    "id": "hw9K9UfmYQzG"
   },
   "source": [
    "# Other KG embedding methods"
   ]
  },
  {
   "cell_type": "markdown",
   "metadata": {
    "id": "kotSGgCSYtzH"
   },
   "source": [
    "TransE"
   ]
  },
  {
   "cell_type": "code",
   "execution_count": 28,
   "metadata": {
    "id": "tG87M7qlYYon"
   },
   "outputs": [],
   "source": [
    "from ampligraph.latent_features import TransE"
   ]
  },
  {
   "cell_type": "code",
   "execution_count": 29,
   "metadata": {
    "id": "2oUGyq2uY7l6"
   },
   "outputs": [],
   "source": [
    "model_T = TransE(batches_count=100, \n",
    "                 seed=0, \n",
    "                 epochs=200, \n",
    "                 k=150, \n",
    "                 eta=5,\n",
    "                 optimizer='adam', \n",
    "                 optimizer_params={'lr':1e-3},\n",
    "                 loss='multiclass_nll', \n",
    "                 regularizer='LP', \n",
    "                 regularizer_params={'p':3, 'lambda':1e-5}, \n",
    "                 verbose=True)"
   ]
  },
  {
   "cell_type": "code",
   "execution_count": 30,
   "metadata": {
    "colab": {
     "base_uri": "https://localhost:8080/"
    },
    "id": "M1-B8eGjZD4J",
    "outputId": "8ad774fe-d7a4-446d-cdbc-5401b5c1ce63"
   },
   "outputs": [
    {
     "name": "stderr",
     "output_type": "stream",
     "text": [
      "Average Loss:   0.025283: 100%|██████████| 200/200 [00:51<00:00,  3.91epoch/s]\n"
     ]
    }
   ],
   "source": [
    "model_T.fit(data['train'], early_stopping = False)"
   ]
  },
  {
   "cell_type": "code",
   "execution_count": 31,
   "metadata": {
    "id": "yxcoTelxZOei"
   },
   "outputs": [],
   "source": [
    "save_model(model_T, './best_model_T.pkl')"
   ]
  },
  {
   "cell_type": "code",
   "execution_count": 32,
   "metadata": {
    "colab": {
     "base_uri": "https://localhost:8080/"
    },
    "id": "cZjinSOvZyMo",
    "outputId": "6eedeb52-88b9-4938-bdaf-f9970eb0be3b"
   },
   "outputs": [
    {
     "name": "stdout",
     "output_type": "stream",
     "text": [
      "The model is fit!\n"
     ]
    }
   ],
   "source": [
    "del model_T\n",
    "model_T = restore_model('./best_model_T.pkl')\n",
    "if model_T.is_fitted:\n",
    "    print('The model is fit!')\n",
    "else:\n",
    "    print('The model is not fit! Did you skip a step?')"
   ]
  },
  {
   "cell_type": "code",
   "execution_count": 33,
   "metadata": {
    "colab": {
     "base_uri": "https://localhost:8080/"
    },
    "id": "Tv01rFctaBHw",
    "outputId": "f4be0c37-3a3d-4f8b-e95c-c1a7c40ba8f7"
   },
   "outputs": [
    {
     "name": "stdout",
     "output_type": "stream",
     "text": [
      "WARNING - DeprecationWarning: use_default_protocol will be removed in future. Please use corrupt_side argument instead.\n"
     ]
    },
    {
     "name": "stderr",
     "output_type": "stream",
     "text": [
      "100%|██████████| 635/635 [00:01<00:00, 370.48it/s]\n"
     ]
    }
   ],
   "source": [
    "ranks_T = evaluate_performance(data['test'], \n",
    "                               model=model_T, \n",
    "                               filter_triples=positives_filter,   # Corruption strategy filter defined above \n",
    "                               use_default_protocol=True, # corrupt subj and obj separately while evaluating\n",
    "                               verbose=True)"
   ]
  },
  {
   "cell_type": "code",
   "execution_count": 34,
   "metadata": {
    "colab": {
     "base_uri": "https://localhost:8080/"
    },
    "id": "FRcFO5hCaKAI",
    "outputId": "24cc507a-f1fd-4302-cde5-3d5f6c0ae37f"
   },
   "outputs": [
    {
     "name": "stdout",
     "output_type": "stream",
     "text": [
      "MRR: 0.14\n",
      "Hits@10: 0.27\n",
      "Hits@3: 0.16\n",
      "Hits@1: 0.07\n"
     ]
    }
   ],
   "source": [
    "mrr = mrr_score(ranks_T)\n",
    "print(\"MRR: %.2f\" % (mrr))\n",
    "\n",
    "hits_10 = hits_at_n_score(ranks_T, n=10)\n",
    "print(\"Hits@10: %.2f\" % (hits_10))\n",
    "hits_3 = hits_at_n_score(ranks_T, n=3)\n",
    "print(\"Hits@3: %.2f\" % (hits_3))\n",
    "hits_1 = hits_at_n_score(ranks_T, n=1)\n",
    "print(\"Hits@1: %.2f\" % (hits_1))"
   ]
  },
  {
   "cell_type": "markdown",
   "metadata": {
    "id": "ZfHfSrw1afvp"
   },
   "source": [
    "DistMult"
   ]
  },
  {
   "cell_type": "code",
   "execution_count": 35,
   "metadata": {
    "id": "3TvlpdeWaYGw"
   },
   "outputs": [],
   "source": [
    "from ampligraph.latent_features import DistMult"
   ]
  },
  {
   "cell_type": "code",
   "execution_count": 36,
   "metadata": {
    "id": "gFRlg8myaoFC"
   },
   "outputs": [],
   "source": [
    "model_D = DistMult(batches_count=100, \n",
    "                   seed=0, \n",
    "                   epochs=200, \n",
    "                   k=150, \n",
    "                   eta=5,\n",
    "                   optimizer='adam', \n",
    "                   optimizer_params={'lr':1e-3},\n",
    "                   loss='multiclass_nll', \n",
    "                   regularizer='LP', \n",
    "                   regularizer_params={'p':3, 'lambda':1e-5}, \n",
    "                   verbose=True)"
   ]
  },
  {
   "cell_type": "code",
   "execution_count": 37,
   "metadata": {
    "colab": {
     "base_uri": "https://localhost:8080/"
    },
    "id": "9EZUzc6pa0pz",
    "outputId": "63629e20-303e-4b43-9010-7293e108d21d"
   },
   "outputs": [
    {
     "name": "stderr",
     "output_type": "stream",
     "text": [
      "Average Loss:   0.021388: 100%|██████████| 200/200 [00:50<00:00,  3.96epoch/s]\n"
     ]
    }
   ],
   "source": [
    "model_D.fit(data['train'], early_stopping = False)"
   ]
  },
  {
   "cell_type": "code",
   "execution_count": 38,
   "metadata": {
    "id": "GgN_Tcl3a3Va"
   },
   "outputs": [],
   "source": [
    "save_model(model_D, './best_model_D.pkl')"
   ]
  },
  {
   "cell_type": "code",
   "execution_count": 39,
   "metadata": {
    "colab": {
     "base_uri": "https://localhost:8080/"
    },
    "id": "eRlJk2u8bHSA",
    "outputId": "cb6b79a7-2d1f-4c48-e6b7-3e140319c9e1"
   },
   "outputs": [
    {
     "name": "stdout",
     "output_type": "stream",
     "text": [
      "The model is fit!\n"
     ]
    }
   ],
   "source": [
    "del model_D\n",
    "model_D = restore_model('./best_model_D.pkl')\n",
    "if model_D.is_fitted:\n",
    "    print('The model is fit!')\n",
    "else:\n",
    "    print('The model is not fit! Did you skip a step?')"
   ]
  },
  {
   "cell_type": "code",
   "execution_count": 40,
   "metadata": {
    "colab": {
     "base_uri": "https://localhost:8080/"
    },
    "id": "b3TtvDaIbKcJ",
    "outputId": "b95f9943-e8c5-4331-cc19-91a5372465aa"
   },
   "outputs": [
    {
     "name": "stdout",
     "output_type": "stream",
     "text": [
      "WARNING - DeprecationWarning: use_default_protocol will be removed in future. Please use corrupt_side argument instead.\n"
     ]
    },
    {
     "name": "stderr",
     "output_type": "stream",
     "text": [
      "100%|██████████| 635/635 [00:01<00:00, 381.91it/s]\n"
     ]
    }
   ],
   "source": [
    "ranks_D = evaluate_performance(data['test'], \n",
    "                               model=model_D, \n",
    "                               filter_triples=positives_filter,   # Corruption strategy filter defined above \n",
    "                               use_default_protocol=True, # corrupt subj and obj separately while evaluating\n",
    "                               verbose=True)"
   ]
  },
  {
   "cell_type": "code",
   "execution_count": 41,
   "metadata": {
    "colab": {
     "base_uri": "https://localhost:8080/"
    },
    "id": "jq06Xuj9bQ2w",
    "outputId": "1d1d3ebe-c261-4ba5-bd42-f148a6db35f8"
   },
   "outputs": [
    {
     "name": "stdout",
     "output_type": "stream",
     "text": [
      "MRR: 0.27\n",
      "Hits@10: 0.38\n",
      "Hits@3: 0.29\n",
      "Hits@1: 0.21\n"
     ]
    }
   ],
   "source": [
    "mrr = mrr_score(ranks_D)\n",
    "print(\"MRR: %.2f\" % (mrr))\n",
    "\n",
    "hits_10 = hits_at_n_score(ranks_D, n=10)\n",
    "print(\"Hits@10: %.2f\" % (hits_10))\n",
    "hits_3 = hits_at_n_score(ranks_D, n=3)\n",
    "print(\"Hits@3: %.2f\" % (hits_3))\n",
    "hits_1 = hits_at_n_score(ranks_D, n=1)\n",
    "print(\"Hits@1: %.2f\" % (hits_1))"
   ]
  },
  {
   "cell_type": "code",
   "execution_count": 42,
   "metadata": {
    "id": "Hw0iN_yzbTED"
   },
   "outputs": [],
   "source": [
    "import pandas as pd"
   ]
  },
  {
   "cell_type": "code",
   "execution_count": 43,
   "metadata": {
    "colab": {
     "base_uri": "https://localhost:8080/",
     "height": 142
    },
    "id": "sgIMqG_pbxUC",
    "outputId": "a59c4fad-ed89-4022-9ce2-cb1783b5db7f"
   },
   "outputs": [
    {
     "data": {
      "text/html": [
       "<div>\n",
       "<style scoped>\n",
       "    .dataframe tbody tr th:only-of-type {\n",
       "        vertical-align: middle;\n",
       "    }\n",
       "\n",
       "    .dataframe tbody tr th {\n",
       "        vertical-align: top;\n",
       "    }\n",
       "\n",
       "    .dataframe thead th {\n",
       "        text-align: right;\n",
       "    }\n",
       "</style>\n",
       "<table border=\"1\" class=\"dataframe\">\n",
       "  <thead>\n",
       "    <tr style=\"text-align: right;\">\n",
       "      <th></th>\n",
       "      <th>MRR</th>\n",
       "      <th>Hits@10</th>\n",
       "      <th>Hits@3</th>\n",
       "      <th>Hits@1</th>\n",
       "    </tr>\n",
       "  </thead>\n",
       "  <tbody>\n",
       "    <tr>\n",
       "      <th>ComplEx</th>\n",
       "      <td>0.302831</td>\n",
       "      <td>0.413386</td>\n",
       "      <td>0.333858</td>\n",
       "      <td>0.240945</td>\n",
       "    </tr>\n",
       "    <tr>\n",
       "      <th>TransE</th>\n",
       "      <td>0.136844</td>\n",
       "      <td>0.266142</td>\n",
       "      <td>0.161417</td>\n",
       "      <td>0.070079</td>\n",
       "    </tr>\n",
       "    <tr>\n",
       "      <th>DistMulti</th>\n",
       "      <td>0.271484</td>\n",
       "      <td>0.382677</td>\n",
       "      <td>0.294488</td>\n",
       "      <td>0.211811</td>\n",
       "    </tr>\n",
       "  </tbody>\n",
       "</table>\n",
       "</div>"
      ],
      "text/plain": [
       "                MRR   Hits@10    Hits@3    Hits@1\n",
       "ComplEx    0.302831  0.413386  0.333858  0.240945\n",
       "TransE     0.136844  0.266142  0.161417  0.070079\n",
       "DistMulti  0.271484  0.382677  0.294488  0.211811"
      ]
     },
     "execution_count": 43,
     "metadata": {
      "tags": []
     },
     "output_type": "execute_result"
    }
   ],
   "source": [
    "compare = pd.DataFrame({'MRR':[mrr_score(ranks), mrr_score(ranks_T), mrr_score(ranks_D)],\n",
    "                        'Hits@10':[hits_at_n_score(ranks, n=10), hits_at_n_score(ranks_T, n=10), hits_at_n_score(ranks_D, n=10)],\n",
    "                        'Hits@3':[hits_at_n_score(ranks, n=3), hits_at_n_score(ranks_T, n=3), hits_at_n_score(ranks_D, n=3)],\n",
    "                        'Hits@1':[hits_at_n_score(ranks, n=1), hits_at_n_score(ranks_T, n=1), hits_at_n_score(ranks_D, n=1)]},\n",
    "                       index = ['ComplEx', 'TransE', 'DistMulti'])\n",
    "\n",
    "compare"
   ]
  },
  {
   "cell_type": "code",
   "execution_count": 43,
   "metadata": {
    "id": "VyBrH30grs8b"
   },
   "outputs": [],
   "source": []
  }
 ],
 "metadata": {
  "accelerator": "GPU",
  "colab": {
   "collapsed_sections": [],
   "name": "Copy of AmpliGraph Tutorial: Getting Started with AmpliGraph.ipynb",
   "provenance": [],
   "toc_visible": true
  },
  "kernelspec": {
   "display_name": "Python 3",
   "language": "python",
   "name": "python3"
  },
  "language_info": {
   "codemirror_mode": {
    "name": "ipython",
    "version": 3
   },
   "file_extension": ".py",
   "mimetype": "text/x-python",
   "name": "python",
   "nbconvert_exporter": "python",
   "pygments_lexer": "ipython3",
   "version": "3.7.9"
  }
 },
 "nbformat": 4,
 "nbformat_minor": 1
}
