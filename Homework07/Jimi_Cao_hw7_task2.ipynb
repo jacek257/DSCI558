{
 "cells": [
  {
   "cell_type": "markdown",
   "metadata": {
    "id": "P03TzulftFoJ"
   },
   "source": [
    "# Task 2: KG Embedding Model"
   ]
  },
  {
   "cell_type": "code",
   "execution_count": 1,
   "metadata": {
    "id": "ggWDs61CtW_d"
   },
   "outputs": [],
   "source": [
    "%%capture \n",
    "!pip install ampligraph; "
   ]
  },
  {
   "cell_type": "code",
   "execution_count": 2,
   "metadata": {
    "colab": {
     "base_uri": "https://localhost:8080/",
     "height": 52
    },
    "id": "nHQDh-bXtHMB",
    "outputId": "4dc445a5-7031-414b-f1f2-a6f77b9c4abc"
   },
   "outputs": [
    {
     "name": "stdout",
     "output_type": "stream",
     "text": [
      "TensorFlow 1.x selected.\n"
     ]
    },
    {
     "data": {
      "application/vnd.google.colaboratory.intrinsic+json": {
       "type": "string"
      },
      "text/plain": [
       "'1.3.2'"
      ]
     },
     "execution_count": 2,
     "metadata": {
      "tags": []
     },
     "output_type": "execute_result"
    }
   ],
   "source": [
    "%tensorflow_version 1.x \n",
    "import numpy as np\n",
    "import pandas as pd\n",
    "import ampligraph\n",
    "\n",
    "ampligraph.__version__"
   ]
  },
  {
   "cell_type": "code",
   "execution_count": 3,
   "metadata": {
    "colab": {
     "base_uri": "https://localhost:8080/"
    },
    "id": "11zuuQgNtRND",
    "outputId": "631983bf-184f-47c0-ca63-3dd258c2caa3"
   },
   "outputs": [
    {
     "data": {
      "text/plain": [
       "array([['queens college, city university of new york',\n",
       "        '/education/educational_institution/students_graduates./education/education/student',\n",
       "        'carol leifer'],\n",
       "       ['digital equipment corporation',\n",
       "        '/business/business_operation/industry', 'computer hardware'],\n",
       "       ['/m/0drtv8',\n",
       "        '/award/award_ceremony/awards_presented./award/award_honor/award_winner',\n",
       "        'laurence mark'],\n",
       "       ['the departed',\n",
       "        '/award/award_winning_work/awards_won./award/award_honor/award_winner',\n",
       "        'leonardo dicaprio'],\n",
       "       ['marilyn manson', '/people/person/profession', 'actor']],\n",
       "      dtype=object)"
      ]
     },
     "execution_count": 3,
     "metadata": {
      "tags": []
     },
     "output_type": "execute_result"
    }
   ],
   "source": [
    "import requests\n",
    "from ampligraph.datasets import load_from_csv\n",
    "\n",
    "url = 'https://ampgraphenc.s3-eu-west-1.amazonaws.com/datasets/freebase-237-merged-and-remapped.csv'\n",
    "open('freebase.csv', 'wb').write(requests.get(url).content)\n",
    "X = load_from_csv('.', 'freebase.csv', sep=',')\n",
    "X[:5, ]"
   ]
  },
  {
   "cell_type": "code",
   "execution_count": 4,
   "metadata": {
    "id": "KYripEFO9dXz"
   },
   "outputs": [],
   "source": [
    "positives_filter = X"
   ]
  },
  {
   "cell_type": "code",
   "execution_count": 5,
   "metadata": {
    "colab": {
     "base_uri": "https://localhost:8080/"
    },
    "id": "AO9DwiAIs-sy",
    "outputId": "84654857-20bd-497b-cb19-8ac6ce2abd1f"
   },
   "outputs": [
    {
     "data": {
      "text/plain": [
       "array(['/m/011xg5', '/m/011yd2', '/m/011yxg', ..., 'zoology', 'zurich',\n",
       "       'zz top'], dtype=object)"
      ]
     },
     "execution_count": 5,
     "metadata": {
      "tags": []
     },
     "output_type": "execute_result"
    }
   ],
   "source": [
    "entities = np.unique(np.concatenate([X[:, 0], X[:, 2]]))\n",
    "entities"
   ]
  },
  {
   "cell_type": "code",
   "execution_count": 6,
   "metadata": {
    "colab": {
     "base_uri": "https://localhost:8080/"
    },
    "id": "Aj3ZFc_NtYyJ",
    "outputId": "252bf265-eba5-47f4-d968-67797190542d"
   },
   "outputs": [
    {
     "data": {
      "text/plain": [
       "array(['/american_football/football_team/current_roster./sports/sports_team_roster/position',\n",
       "       '/award/award_category/category_of',\n",
       "       '/award/award_category/disciplines_or_subjects',\n",
       "       '/award/award_category/nominees./award/award_nomination/nominated_for',\n",
       "       '/award/award_category/winners./award/award_honor/award_winner',\n",
       "       '/award/award_category/winners./award/award_honor/ceremony',\n",
       "       '/award/award_ceremony/awards_presented./award/award_honor/award_winner',\n",
       "       '/award/award_ceremony/awards_presented./award/award_honor/honored_for',\n",
       "       '/award/award_nominated_work/award_nominations./award/award_nomination/nominated_for',\n",
       "       '/award/award_nominee/award_nominations./award/award_nomination/award',\n",
       "       '/award/award_nominee/award_nominations./award/award_nomination/award_nominee',\n",
       "       '/award/award_nominee/award_nominations./award/award_nomination/nominated_for',\n",
       "       '/award/award_winner/awards_won./award/award_honor/award_winner',\n",
       "       '/award/award_winning_work/awards_won./award/award_honor/award',\n",
       "       '/award/award_winning_work/awards_won./award/award_honor/award_winner',\n",
       "       '/award/award_winning_work/awards_won./award/award_honor/honored_for',\n",
       "       '/award/hall_of_fame/inductees./award/hall_of_fame_induction/inductee',\n",
       "       '/award/ranked_item/appears_in_ranked_lists./award/ranking/list',\n",
       "       '/base/aareas/schema/administrative_area/administrative_area_type',\n",
       "       '/base/aareas/schema/administrative_area/administrative_parent',\n",
       "       '/base/aareas/schema/administrative_area/capital',\n",
       "       '/base/americancomedy/celebrity_impressionist/celebrities_impersonated',\n",
       "       '/base/biblioness/bibs_location/country',\n",
       "       '/base/biblioness/bibs_location/state',\n",
       "       '/base/culturalevent/event/entity_involved',\n",
       "       '/base/eating/practicer_of_diet/diet',\n",
       "       '/base/localfood/seasonal_month/produce_available./base/localfood/produce_availability/seasonal_months',\n",
       "       '/base/locations/continents/countries_within',\n",
       "       '/base/marchmadness/ncaa_basketball_tournament/seeds./base/marchmadness/ncaa_tournament_seed/team',\n",
       "       '/base/petbreeds/city_with_dogs/top_breeds./base/petbreeds/dog_city_relationship/dog_breed',\n",
       "       '/base/popstra/celebrity/breakup./base/popstra/breakup/participant',\n",
       "       '/base/popstra/celebrity/canoodled./base/popstra/canoodled/participant',\n",
       "       '/base/popstra/celebrity/dated./base/popstra/dated/participant',\n",
       "       '/base/popstra/celebrity/friendship./base/popstra/friendship/participant',\n",
       "       '/base/popstra/location/vacationers./base/popstra/vacation_choice/vacationer',\n",
       "       '/base/saturdaynightlive/snl_cast_member/seasons./base/saturdaynightlive/snl_season_tenure/cast_members',\n",
       "       '/base/schemastaging/organization_extra/phone_number./base/schemastaging/phone_sandbox/contact_category',\n",
       "       '/base/schemastaging/organization_extra/phone_number./base/schemastaging/phone_sandbox/service_language',\n",
       "       '/base/schemastaging/organization_extra/phone_number./base/schemastaging/phone_sandbox/service_location',\n",
       "       '/base/schemastaging/person_extra/net_worth./measurement_unit/dated_money_value/currency',\n",
       "       '/base/x2010fifaworldcupsouthafrica/world_cup_squad/current_world_cup_squad./base/x2010fifaworldcupsouthafrica/current_world_cup_squad/current_club',\n",
       "       '/baseball/baseball_team/team_stats./baseball/baseball_team_stats/season',\n",
       "       '/broadcast/content/artist',\n",
       "       '/business/business_operation/assets./measurement_unit/dated_money_value/currency',\n",
       "       '/business/business_operation/industry',\n",
       "       '/business/business_operation/operating_income./measurement_unit/dated_money_value/currency',\n",
       "       '/business/business_operation/revenue./measurement_unit/dated_money_value/currency',\n",
       "       '/business/job_title/people_with_this_title./business/employment_tenure/company',\n",
       "       '/celebrities/celebrity/celebrity_friends./celebrities/friendship/friend',\n",
       "       '/celebrities/celebrity/sexual_relationships./celebrities/romantic_relationship/celebrity',\n",
       "       '/common/topic/webpage./common/webpage/category',\n",
       "       '/dataworld/gardening_hint/split_to',\n",
       "       '/education/educational_degree/people_with_this_degree./education/education/institution',\n",
       "       '/education/educational_degree/people_with_this_degree./education/education/major_field_of_study',\n",
       "       '/education/educational_degree/people_with_this_degree./education/education/student',\n",
       "       '/education/educational_institution/campuses',\n",
       "       '/education/educational_institution/colors',\n",
       "       '/education/educational_institution/school_type',\n",
       "       '/education/educational_institution/students_graduates./education/education/major_field_of_study',\n",
       "       '/education/educational_institution/students_graduates./education/education/student',\n",
       "       '/education/educational_institution_campus/educational_institution',\n",
       "       '/education/field_of_study/students_majoring./education/education/major_field_of_study',\n",
       "       '/education/field_of_study/students_majoring./education/education/student',\n",
       "       '/education/university/domestic_tuition./measurement_unit/dated_money_value/currency',\n",
       "       '/education/university/fraternities_and_sororities',\n",
       "       '/education/university/international_tuition./measurement_unit/dated_money_value/currency',\n",
       "       '/education/university/local_tuition./measurement_unit/dated_money_value/currency',\n",
       "       '/film/actor/dubbing_performances./film/dubbing_performance/language',\n",
       "       '/film/actor/film./film/performance/film',\n",
       "       '/film/actor/film./film/performance/special_performance_type',\n",
       "       '/film/director/film', '/film/film/cinematography',\n",
       "       '/film/film/costume_design_by', '/film/film/country',\n",
       "       '/film/film/distributors./film/film_film_distributor_relationship/film_distribution_medium',\n",
       "       '/film/film/distributors./film/film_film_distributor_relationship/region',\n",
       "       '/film/film/dubbing_performances./film/dubbing_performance/actor',\n",
       "       '/film/film/edited_by',\n",
       "       '/film/film/estimated_budget./measurement_unit/dated_money_value/currency',\n",
       "       '/film/film/executive_produced_by',\n",
       "       '/film/film/featured_film_locations',\n",
       "       '/film/film/film_art_direction_by', '/film/film/film_festivals',\n",
       "       '/film/film/film_format', '/film/film/film_production_design_by',\n",
       "       '/film/film/genre', '/film/film/language', '/film/film/music',\n",
       "       '/film/film/other_crew./film/film_crew_gig/crewmember',\n",
       "       '/film/film/other_crew./film/film_crew_gig/film_crew_role',\n",
       "       '/film/film/personal_appearances./film/personal_film_appearance/person',\n",
       "       '/film/film/prequel', '/film/film/produced_by',\n",
       "       '/film/film/production_companies',\n",
       "       '/film/film/release_date_s./film/film_regional_release_date/film_regional_debut_venue',\n",
       "       '/film/film/release_date_s./film/film_regional_release_date/film_release_distribution_medium',\n",
       "       '/film/film/release_date_s./film/film_regional_release_date/film_release_region',\n",
       "       '/film/film/runtime./film/film_cut/film_release_region',\n",
       "       '/film/film/story_by', '/film/film/written_by',\n",
       "       '/film/film_distributor/films_distributed./film/film_film_distributor_relationship/film',\n",
       "       '/film/film_set_designer/film_sets_designed',\n",
       "       '/film/film_subject/films',\n",
       "       '/film/person_or_entity_appearing_in_film/films./film/personal_film_appearance/type_of_appearance',\n",
       "       '/film/special_film_performance_type/film_performance_type./film/performance/film',\n",
       "       '/food/food/nutrients./food/nutrition_fact/nutrient',\n",
       "       '/government/government_office_category/officeholders./government/government_position_held/jurisdiction_of_office',\n",
       "       '/government/governmental_body/members./government/government_position_held/legislative_sessions',\n",
       "       '/government/legislative_session/members./government/government_position_held/district_represented',\n",
       "       '/government/legislative_session/members./government/government_position_held/legislative_sessions',\n",
       "       '/government/political_party/politicians_in_this_party./government/political_party_tenure/politician',\n",
       "       '/government/politician/government_positions_held./government/government_position_held/basic_title',\n",
       "       '/government/politician/government_positions_held./government/government_position_held/jurisdiction_of_office',\n",
       "       '/government/politician/government_positions_held./government/government_position_held/legislative_sessions',\n",
       "       '/ice_hockey/hockey_team/current_roster./sports/sports_team_roster/position',\n",
       "       '/influence/influence_node/influenced_by',\n",
       "       '/influence/influence_node/peers./influence/peer_relationship/peers',\n",
       "       '/language/human_language/countries_spoken_in',\n",
       "       '/location/administrative_division/country',\n",
       "       '/location/administrative_division/first_level_division_of',\n",
       "       '/location/capital_of_administrative_division/capital_of./location/administrative_division_capital_relationship/administrative_division',\n",
       "       '/location/country/capital',\n",
       "       '/location/country/form_of_government',\n",
       "       '/location/country/official_language',\n",
       "       '/location/country/second_level_divisions',\n",
       "       '/location/hud_county_place/county',\n",
       "       '/location/hud_county_place/place',\n",
       "       '/location/hud_foreclosure_area/estimated_number_of_mortgages./measurement_unit/dated_integer/source',\n",
       "       '/location/location/adjoin_s./location/adjoining_relationship/adjoins',\n",
       "       '/location/location/contains',\n",
       "       '/location/location/partially_contains',\n",
       "       '/location/location/time_zones',\n",
       "       '/location/statistical_region/gdp_nominal./measurement_unit/dated_money_value/currency',\n",
       "       '/location/statistical_region/gdp_nominal_per_capita./measurement_unit/dated_money_value/currency',\n",
       "       '/location/statistical_region/gdp_real./measurement_unit/adjusted_money_value/adjustment_currency',\n",
       "       '/location/statistical_region/gni_per_capita_in_ppp_dollars./measurement_unit/dated_money_value/currency',\n",
       "       '/location/statistical_region/places_exported_to./location/imports_and_exports/exported_to',\n",
       "       '/location/statistical_region/religions./location/religion_percentage/religion',\n",
       "       '/location/statistical_region/rent50_2./measurement_unit/dated_money_value/currency',\n",
       "       '/location/us_county/county_seat',\n",
       "       '/media_common/netflix_genre/titles',\n",
       "       '/medicine/disease/notable_people_with_this_condition',\n",
       "       '/medicine/disease/risk_factors', '/medicine/symptom/symptom_of',\n",
       "       '/military/military_combatant/military_conflicts./military/military_combatant_group/combatants',\n",
       "       '/military/military_conflict/combatants./military/military_combatant_group/combatants',\n",
       "       '/music/artist/contribution./music/recording_contribution/performance_role',\n",
       "       '/music/artist/origin',\n",
       "       '/music/artist/track_contributions./music/track_contribution/role',\n",
       "       '/music/genre/artists', '/music/genre/parent_genre',\n",
       "       '/music/group_member/membership./music/group_membership/group',\n",
       "       '/music/group_member/membership./music/group_membership/role',\n",
       "       '/music/instrument/family', '/music/instrument/instrumentalists',\n",
       "       '/music/performance_role/guest_performances./music/recording_contribution/performance_role',\n",
       "       '/music/performance_role/regular_performances./music/group_membership/group',\n",
       "       '/music/performance_role/regular_performances./music/group_membership/role',\n",
       "       '/music/performance_role/track_performances./music/track_contribution/role',\n",
       "       '/music/record_label/artist',\n",
       "       '/olympics/olympic_games/medals_awarded./olympics/olympic_medal_honor/medal',\n",
       "       '/olympics/olympic_games/participating_countries',\n",
       "       '/olympics/olympic_games/sports',\n",
       "       '/olympics/olympic_participating_country/athletes./olympics/olympic_athlete_affiliation/olympics',\n",
       "       '/olympics/olympic_participating_country/medals_won./olympics/olympic_medal_honor/medal',\n",
       "       '/olympics/olympic_participating_country/medals_won./olympics/olympic_medal_honor/olympics',\n",
       "       '/olympics/olympic_sport/athletes./olympics/olympic_athlete_affiliation/country',\n",
       "       '/olympics/olympic_sport/athletes./olympics/olympic_athlete_affiliation/olympics',\n",
       "       '/organization/endowed_organization/endowment./measurement_unit/dated_money_value/currency',\n",
       "       '/organization/non_profit_organization/registered_with./organization/non_profit_registration/registering_agency',\n",
       "       '/organization/organization/child./organization/organization_relationship/child',\n",
       "       '/organization/organization/headquarters./location/mailing_address/citytown',\n",
       "       '/organization/organization/headquarters./location/mailing_address/country',\n",
       "       '/organization/organization/headquarters./location/mailing_address/state_province_region',\n",
       "       '/organization/organization/place_founded',\n",
       "       '/organization/organization_founder/organizations_founded',\n",
       "       '/organization/organization_member/member_of./organization/organization_membership/organization',\n",
       "       '/organization/role/leaders./organization/leadership/organization',\n",
       "       '/people/cause_of_death/people',\n",
       "       '/people/deceased_person/place_of_burial',\n",
       "       '/people/deceased_person/place_of_death',\n",
       "       '/people/ethnicity/geographic_distribution',\n",
       "       '/people/ethnicity/languages_spoken', '/people/ethnicity/people',\n",
       "       '/people/marriage_union_type/unions_of_this_type./people/marriage/location_of_ceremony',\n",
       "       '/people/person/employment_history./business/employment_tenure/company',\n",
       "       '/people/person/gender', '/people/person/languages',\n",
       "       '/people/person/nationality', '/people/person/place_of_birth',\n",
       "       '/people/person/places_lived./people/place_lived/location',\n",
       "       '/people/person/profession', '/people/person/religion',\n",
       "       '/people/person/sibling_s./people/sibling_relationship/sibling',\n",
       "       '/people/person/spouse_s./people/marriage/location_of_ceremony',\n",
       "       '/people/person/spouse_s./people/marriage/spouse',\n",
       "       '/people/person/spouse_s./people/marriage/type_of_union',\n",
       "       '/people/profession/specialization_of',\n",
       "       '/soccer/football_player/current_team./sports/sports_team_roster/team',\n",
       "       '/soccer/football_team/current_roster./soccer/football_roster_position/position',\n",
       "       '/soccer/football_team/current_roster./sports/sports_team_roster/position',\n",
       "       '/sports/pro_athlete/teams./sports/sports_team_roster/team',\n",
       "       '/sports/professional_sports_team/draft_picks./sports/sports_league_draft_pick/draft',\n",
       "       '/sports/professional_sports_team/draft_picks./sports/sports_league_draft_pick/school',\n",
       "       '/sports/sport/pro_athletes./sports/pro_sports_played/athlete',\n",
       "       '/sports/sports_league/teams./sports/sports_league_participation/team',\n",
       "       '/sports/sports_league_draft/picks./sports/sports_league_draft_pick/school',\n",
       "       '/sports/sports_position/players./american_football/football_historical_roster_position/position_s',\n",
       "       '/sports/sports_position/players./sports/sports_team_roster/position',\n",
       "       '/sports/sports_position/players./sports/sports_team_roster/team',\n",
       "       '/sports/sports_team/colors',\n",
       "       '/sports/sports_team/roster./american_football/football_historical_roster_position/position_s',\n",
       "       '/sports/sports_team/roster./american_football/football_roster_position/position',\n",
       "       '/sports/sports_team/roster./baseball/baseball_roster_position/position',\n",
       "       '/sports/sports_team/roster./basketball/basketball_roster_position/position',\n",
       "       '/sports/sports_team/sport', '/sports/sports_team_location/teams',\n",
       "       '/time/event/instance_of_recurring_event', '/time/event/locations',\n",
       "       '/travel/travel_destination/climate./travel/travel_destination_monthly_climate/month',\n",
       "       '/travel/travel_destination/how_to_get_here./travel/transportation/mode_of_transportation',\n",
       "       '/tv/non_character_role/tv_regular_personal_appearances./tv/tv_regular_personal_appearance/person',\n",
       "       '/tv/tv_network/programs./tv/tv_network_duration/program',\n",
       "       '/tv/tv_personality/tv_regular_appearances./tv/tv_regular_personal_appearance/program',\n",
       "       '/tv/tv_producer/programs_produced./tv/tv_producer_term/producer_type',\n",
       "       '/tv/tv_producer/programs_produced./tv/tv_producer_term/program',\n",
       "       '/tv/tv_program/country_of_origin', '/tv/tv_program/genre',\n",
       "       '/tv/tv_program/languages', '/tv/tv_program/program_creator',\n",
       "       '/tv/tv_program/regular_cast./tv/regular_tv_appearance/actor',\n",
       "       '/tv/tv_program/tv_producer./tv/tv_producer_term/producer_type',\n",
       "       '/tv/tv_writer/tv_programs./tv/tv_program_writer_relationship/tv_program',\n",
       "       '/user/alexander/philosophy/philosopher/interests',\n",
       "       '/user/jg/default_domain/olympic_games/sports',\n",
       "       '/user/ktrueman/default_domain/international_organization/member_states',\n",
       "       '/user/tsegaran/random/taxonomy_subject/entry./user/tsegaran/random/taxonomy_entry/taxonomy'],\n",
       "      dtype=object)"
      ]
     },
     "execution_count": 6,
     "metadata": {
      "tags": []
     },
     "output_type": "execute_result"
    }
   ],
   "source": [
    "relations = np.unique(X[:, 1])\n",
    "relations"
   ]
  },
  {
   "cell_type": "code",
   "execution_count": 7,
   "metadata": {
    "id": "6pFRua46t5db"
   },
   "outputs": [],
   "source": [
    "from ampligraph.evaluation import train_test_split_no_unseen \n",
    "\n",
    "num_test = 10000\n",
    "\n",
    "data = {}\n",
    "data['train'], data['test'] = train_test_split_no_unseen(X, test_size=num_test, seed=0, allow_duplication=False) "
   ]
  },
  {
   "cell_type": "code",
   "execution_count": 8,
   "metadata": {
    "colab": {
     "base_uri": "https://localhost:8080/"
    },
    "id": "3PNF4kz3uS6r",
    "outputId": "45583ed7-ab37-4661-ca32-e04a2cfcf4a9"
   },
   "outputs": [
    {
     "name": "stdout",
     "output_type": "stream",
     "text": [
      "Train set size:  (298722, 3)\n",
      "Test set size:  (10000, 3)\n"
     ]
    }
   ],
   "source": [
    "print('Train set size: ', data['train'].shape)\n",
    "print('Test set size: ', data['test'].shape)"
   ]
  },
  {
   "cell_type": "code",
   "execution_count": 9,
   "metadata": {
    "id": "WLj34A2duTri"
   },
   "outputs": [],
   "source": [
    "from ampligraph.latent_features import ComplEx"
   ]
  },
  {
   "cell_type": "code",
   "execution_count": 10,
   "metadata": {
    "id": "JWH9pjAcucKz"
   },
   "outputs": [],
   "source": [
    "model = ComplEx(batches_count=100, \n",
    "                seed=0, \n",
    "                epochs=100, \n",
    "                k=150, \n",
    "                eta=5,\n",
    "                optimizer='adam', \n",
    "                optimizer_params={'lr':1e-3},\n",
    "                loss='multiclass_nll', \n",
    "                regularizer='LP', \n",
    "                regularizer_params={'p':3, 'lambda':1e-5}, \n",
    "                verbose=True)"
   ]
  },
  {
   "cell_type": "code",
   "execution_count": 11,
   "metadata": {
    "colab": {
     "base_uri": "https://localhost:8080/"
    },
    "id": "tN0Mk_Gsudob",
    "outputId": "885eb87a-866b-48c9-fd00-18eb9c0b853c"
   },
   "outputs": [
    {
     "name": "stderr",
     "output_type": "stream",
     "text": [
      "Average Loss:   0.028910: 100%|██████████| 100/100 [33:34<00:00, 20.14s/epoch]\n"
     ]
    }
   ],
   "source": [
    "model.fit(data['train'], early_stopping = False)"
   ]
  },
  {
   "cell_type": "code",
   "execution_count": 12,
   "metadata": {
    "id": "JYtndVx4ufS7"
   },
   "outputs": [],
   "source": [
    "from ampligraph.latent_features import save_model, restore_model"
   ]
  },
  {
   "cell_type": "code",
   "execution_count": 13,
   "metadata": {
    "id": "9i0I9J672WaV"
   },
   "outputs": [],
   "source": [
    "save_model(model, './best_model.pkl')"
   ]
  },
  {
   "cell_type": "code",
   "execution_count": 14,
   "metadata": {
    "id": "DEUbV2j32X9z"
   },
   "outputs": [],
   "source": [
    "del model"
   ]
  },
  {
   "cell_type": "code",
   "execution_count": 15,
   "metadata": {
    "id": "kRQZrBMX8-VF"
   },
   "outputs": [],
   "source": [
    "model = restore_model('./best_model.pkl')"
   ]
  },
  {
   "cell_type": "code",
   "execution_count": 16,
   "metadata": {
    "colab": {
     "base_uri": "https://localhost:8080/"
    },
    "id": "ayuVXTfD8_cb",
    "outputId": "6623c46a-1037-4784-8adf-5201a3c52de6"
   },
   "outputs": [
    {
     "name": "stdout",
     "output_type": "stream",
     "text": [
      "The model is fit!\n"
     ]
    }
   ],
   "source": [
    "if model.is_fitted:\n",
    "    print('The model is fit!')\n",
    "else:\n",
    "    print('The model is not fit! Did you skip a step?')"
   ]
  },
  {
   "cell_type": "code",
   "execution_count": 17,
   "metadata": {
    "id": "JtK7FCOS9A4j"
   },
   "outputs": [],
   "source": [
    "from ampligraph.evaluation import evaluate_performance"
   ]
  },
  {
   "cell_type": "code",
   "execution_count": 18,
   "metadata": {
    "colab": {
     "base_uri": "https://localhost:8080/"
    },
    "id": "Fak4U32R9Dgb",
    "outputId": "630cee92-f379-4415-e338-cfc3bacb6479"
   },
   "outputs": [
    {
     "name": "stdout",
     "output_type": "stream",
     "text": [
      "WARNING - DeprecationWarning: use_default_protocol will be removed in future. Please use corrupt_side argument instead.\n"
     ]
    },
    {
     "name": "stderr",
     "output_type": "stream",
     "text": [
      "100%|██████████| 10000/10000 [15:07<00:00, 11.01it/s]\n"
     ]
    }
   ],
   "source": [
    "ranks = evaluate_performance(data['test'], \n",
    "                             model=model, \n",
    "                             filter_triples=positives_filter,   # Corruption strategy filter defined above \n",
    "                             use_default_protocol=True, # corrupt subj and obj separately while evaluating\n",
    "                             verbose=True)"
   ]
  },
  {
   "cell_type": "code",
   "execution_count": 19,
   "metadata": {
    "colab": {
     "base_uri": "https://localhost:8080/"
    },
    "id": "EKKyq47J9Ljz",
    "outputId": "0115e3fd-6e6a-43f3-81ca-ea347c06d687"
   },
   "outputs": [
    {
     "name": "stdout",
     "output_type": "stream",
     "text": [
      "MRR: 0.23\n",
      "Hits@10: 0.39\n",
      "Hits@3: 0.25\n",
      "Hits@1: 0.14\n"
     ]
    }
   ],
   "source": [
    "from ampligraph.evaluation import mr_score, mrr_score, hits_at_n_score\n",
    "\n",
    "mrr = mrr_score(ranks)\n",
    "print(\"MRR: %.2f\" % (mrr))\n",
    "\n",
    "hits_10 = hits_at_n_score(ranks, n=10)\n",
    "print(\"Hits@10: %.2f\" % (hits_10))\n",
    "hits_3 = hits_at_n_score(ranks, n=3)\n",
    "print(\"Hits@3: %.2f\" % (hits_3))\n",
    "hits_1 = hits_at_n_score(ranks, n=1)\n",
    "print(\"Hits@1: %.2f\" % (hits_1))"
   ]
  },
  {
   "cell_type": "code",
   "execution_count": 20,
   "metadata": {
    "id": "aBD-3RMs_sgO"
   },
   "outputs": [],
   "source": [
    "X_unseen = data['test'][:10]"
   ]
  },
  {
   "cell_type": "code",
   "execution_count": 21,
   "metadata": {
    "id": "HUXRaopKAIW1"
   },
   "outputs": [],
   "source": [
    "unseen_filter = np.array(list({tuple(i) for i in np.vstack((positives_filter, X_unseen))}))"
   ]
  },
  {
   "cell_type": "code",
   "execution_count": 22,
   "metadata": {
    "colab": {
     "base_uri": "https://localhost:8080/"
    },
    "id": "QxNpiH4cAsqT",
    "outputId": "d9d93b32-0433-407a-ddd3-5c8fd595f6bc"
   },
   "outputs": [
    {
     "name": "stderr",
     "output_type": "stream",
     "text": [
      "100%|██████████| 10/10 [00:00<00:00, 10.39it/s]\n"
     ]
    }
   ],
   "source": [
    "ranks_unseen = evaluate_performance(\n",
    "    X_unseen, \n",
    "    model=model, \n",
    "    filter_triples=unseen_filter,   # Corruption strategy filter defined above \n",
    "    corrupt_side = 's+o',\n",
    "    use_default_protocol=False, # corrupt subj and obj separately while evaluating\n",
    "    verbose=True\n",
    ")"
   ]
  },
  {
   "cell_type": "code",
   "execution_count": 23,
   "metadata": {
    "id": "kxyb-M88AJPk"
   },
   "outputs": [],
   "source": [
    "scores = model.predict(X_unseen)"
   ]
  },
  {
   "cell_type": "code",
   "execution_count": 24,
   "metadata": {
    "id": "Yzqw9CoyAUm8"
   },
   "outputs": [],
   "source": [
    "from scipy.special import expit\n",
    "probs = expit(scores)"
   ]
  },
  {
   "cell_type": "code",
   "execution_count": 25,
   "metadata": {
    "colab": {
     "base_uri": "https://localhost:8080/",
     "height": 359
    },
    "id": "TckJAJYHAWkE",
    "outputId": "59c3412b-f77f-4e34-c945-14738b412a5c"
   },
   "outputs": [
    {
     "data": {
      "text/html": [
       "<div>\n",
       "<style scoped>\n",
       "    .dataframe tbody tr th:only-of-type {\n",
       "        vertical-align: middle;\n",
       "    }\n",
       "\n",
       "    .dataframe tbody tr th {\n",
       "        vertical-align: top;\n",
       "    }\n",
       "\n",
       "    .dataframe thead th {\n",
       "        text-align: right;\n",
       "    }\n",
       "</style>\n",
       "<table border=\"1\" class=\"dataframe\">\n",
       "  <thead>\n",
       "    <tr style=\"text-align: right;\">\n",
       "      <th></th>\n",
       "      <th>statement</th>\n",
       "      <th>rank</th>\n",
       "      <th>score</th>\n",
       "      <th>prob</th>\n",
       "    </tr>\n",
       "  </thead>\n",
       "  <tbody>\n",
       "    <tr>\n",
       "      <th>7</th>\n",
       "      <td>chris nurse /people/person/place_of_birth hamm...</td>\n",
       "      <td>4482</td>\n",
       "      <td>3.299764</td>\n",
       "      <td>0.964421</td>\n",
       "    </tr>\n",
       "    <tr>\n",
       "      <th>2</th>\n",
       "      <td>kymx /broadcast/content/artist richard marx</td>\n",
       "      <td>457</td>\n",
       "      <td>9.575715</td>\n",
       "      <td>0.999931</td>\n",
       "    </tr>\n",
       "    <tr>\n",
       "      <th>8</th>\n",
       "      <td>benjamin bratt /award/award_nominee/award_nomi...</td>\n",
       "      <td>58</td>\n",
       "      <td>10.927811</td>\n",
       "      <td>0.999982</td>\n",
       "    </tr>\n",
       "    <tr>\n",
       "      <th>5</th>\n",
       "      <td>david cross /influence/influence_node/influenc...</td>\n",
       "      <td>128</td>\n",
       "      <td>14.479103</td>\n",
       "      <td>1.000000</td>\n",
       "    </tr>\n",
       "    <tr>\n",
       "      <th>3</th>\n",
       "      <td>morehouse college /business/business_operation...</td>\n",
       "      <td>13</td>\n",
       "      <td>14.723392</td>\n",
       "      <td>1.000000</td>\n",
       "    </tr>\n",
       "    <tr>\n",
       "      <th>0</th>\n",
       "      <td>holly hunter /award/award_nominee/award_nomina...</td>\n",
       "      <td>48</td>\n",
       "      <td>16.066914</td>\n",
       "      <td>1.000000</td>\n",
       "    </tr>\n",
       "    <tr>\n",
       "      <th>6</th>\n",
       "      <td>norman stiles /award/award_nominee/award_nomin...</td>\n",
       "      <td>4</td>\n",
       "      <td>16.827826</td>\n",
       "      <td>1.000000</td>\n",
       "    </tr>\n",
       "    <tr>\n",
       "      <th>4</th>\n",
       "      <td>erika christensen /award/award_nominee/award_n...</td>\n",
       "      <td>46</td>\n",
       "      <td>17.347830</td>\n",
       "      <td>1.000000</td>\n",
       "    </tr>\n",
       "    <tr>\n",
       "      <th>1</th>\n",
       "      <td>pop music /music/genre/artists alanis morissette</td>\n",
       "      <td>26</td>\n",
       "      <td>17.611797</td>\n",
       "      <td>1.000000</td>\n",
       "    </tr>\n",
       "    <tr>\n",
       "      <th>9</th>\n",
       "      <td>tyler perry /award/award_nominee/award_nominat...</td>\n",
       "      <td>45</td>\n",
       "      <td>18.875919</td>\n",
       "      <td>1.000000</td>\n",
       "    </tr>\n",
       "  </tbody>\n",
       "</table>\n",
       "</div>"
      ],
      "text/plain": [
       "                                           statement  rank      score      prob\n",
       "7  chris nurse /people/person/place_of_birth hamm...  4482   3.299764  0.964421\n",
       "2        kymx /broadcast/content/artist richard marx   457   9.575715  0.999931\n",
       "8  benjamin bratt /award/award_nominee/award_nomi...    58  10.927811  0.999982\n",
       "5  david cross /influence/influence_node/influenc...   128  14.479103  1.000000\n",
       "3  morehouse college /business/business_operation...    13  14.723392  1.000000\n",
       "0  holly hunter /award/award_nominee/award_nomina...    48  16.066914  1.000000\n",
       "6  norman stiles /award/award_nominee/award_nomin...     4  16.827826  1.000000\n",
       "4  erika christensen /award/award_nominee/award_n...    46  17.347830  1.000000\n",
       "1   pop music /music/genre/artists alanis morissette    26  17.611797  1.000000\n",
       "9  tyler perry /award/award_nominee/award_nominat...    45  18.875919  1.000000"
      ]
     },
     "execution_count": 25,
     "metadata": {
      "tags": []
     },
     "output_type": "execute_result"
    }
   ],
   "source": [
    "pd.DataFrame(list(zip([' '.join(x) for x in X_unseen], \n",
    "                      ranks_unseen, \n",
    "                      np.squeeze(scores),\n",
    "                      np.squeeze(probs))), \n",
    "             columns=['statement', 'rank', 'score', 'prob']).sort_values(\"score\")"
   ]
  },
  {
   "cell_type": "code",
   "execution_count": 25,
   "metadata": {
    "id": "jt_JJZSoAdPr"
   },
   "outputs": [],
   "source": []
  }
 ],
 "metadata": {
  "colab": {
   "name": "KG Embedding Model.ipynb",
   "provenance": [],
   "toc_visible": true
  },
  "kernelspec": {
   "display_name": "Python 3",
   "language": "python",
   "name": "python3"
  },
  "language_info": {
   "codemirror_mode": {
    "name": "ipython",
    "version": 3
   },
   "file_extension": ".py",
   "mimetype": "text/x-python",
   "name": "python",
   "nbconvert_exporter": "python",
   "pygments_lexer": "ipython3",
   "version": "3.7.9"
  }
 },
 "nbformat": 4,
 "nbformat_minor": 1
}
