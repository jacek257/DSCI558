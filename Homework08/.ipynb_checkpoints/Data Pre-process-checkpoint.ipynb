{
 "cells": [
  {
   "cell_type": "code",
   "execution_count": 1,
   "id": "mathematical-venezuela",
   "metadata": {},
   "outputs": [],
   "source": [
    "import requests\n",
    "import pandas as pd\n",
    "import numpy as np"
   ]
  },
  {
   "cell_type": "code",
   "execution_count": 2,
   "id": "bound-communist",
   "metadata": {},
   "outputs": [],
   "source": [
    "# url = 'http://pages.cs.wisc.edu/~anhai/data/784_data/movies1/csv_files/imdb.csv'\n",
    "# open('imdb.csv', 'wb').write(requests.get(url).content)\n",
    "imdb_df = pd.read_csv('imdb.csv', sep=',', encoding='utf-8', engine='python',\n",
    "                      error_bad_lines=False, warn_bad_lines=False, dtype=str, na_filter=False).fillna(\"\")"
   ]
  },
  {
   "cell_type": "code",
   "execution_count": 6,
   "id": "statewide-edmonton",
   "metadata": {},
   "outputs": [],
   "source": [
    "lst_col = 'Director'\n",
    "x = imdb_df.assign(**{lst_col:imdb_df[lst_col].str.split(',')})\n",
    "\n",
    "imdb_split = pd.DataFrame({\n",
    "    col:np.repeat(x[col].values, x[lst_col].str.len())\n",
    "    for col in x.columns.difference([lst_col])\n",
    "    }).assign(**{lst_col:np.concatenate(x[lst_col].values)})[x.columns.tolist()]"
   ]
  },
  {
   "cell_type": "code",
   "execution_count": 3,
   "id": "opponent-watts",
   "metadata": {},
   "outputs": [],
   "source": [
    "# url = 'http://pages.cs.wisc.edu/~anhai/data/784_data/movies1/csv_files/rotten_tomatoes.csv'\n",
    "# open('rt.csv', 'wb').write(requests.get(url).content)\n",
    "rt_df = pd.read_csv('rt.csv', sep=',', encoding='utf-8', engine='python',\n",
    "                      error_bad_lines=False, warn_bad_lines=False, dtype=str, na_filter=False).fillna(\"\")"
   ]
  },
  {
   "cell_type": "code",
   "execution_count": 7,
   "id": "crude-indiana",
   "metadata": {},
   "outputs": [],
   "source": [
    "lst_col = 'Director'\n",
    "x = rt_df.assign(**{lst_col:rt_df[lst_col].str.split(',')})\n",
    "\n",
    "rt_split = pd.DataFrame({\n",
    "    col:np.repeat(x[col].values, x[lst_col].str.len())\n",
    "    for col in x.columns.difference([lst_col])\n",
    "    }).assign(**{lst_col:np.concatenate(x[lst_col].values)})[x.columns.tolist()]"
   ]
  },
  {
   "cell_type": "code",
   "execution_count": 8,
   "id": "parliamentary-sport",
   "metadata": {},
   "outputs": [
    {
     "data": {
      "text/html": [
       "<div>\n",
       "<style scoped>\n",
       "    .dataframe tbody tr th:only-of-type {\n",
       "        vertical-align: middle;\n",
       "    }\n",
       "\n",
       "    .dataframe tbody tr th {\n",
       "        vertical-align: top;\n",
       "    }\n",
       "\n",
       "    .dataframe thead th {\n",
       "        text-align: right;\n",
       "    }\n",
       "</style>\n",
       "<table border=\"1\" class=\"dataframe\">\n",
       "  <thead>\n",
       "    <tr style=\"text-align: right;\">\n",
       "      <th></th>\n",
       "      <th>Id</th>\n",
       "      <th>Name</th>\n",
       "      <th>YearRange</th>\n",
       "      <th>ReleaseDate</th>\n",
       "      <th>Director</th>\n",
       "      <th>Creator</th>\n",
       "      <th>Cast</th>\n",
       "      <th>Duration</th>\n",
       "      <th>RatingValue</th>\n",
       "      <th>ContentRating</th>\n",
       "      <th>Genre</th>\n",
       "      <th>Url</th>\n",
       "      <th>Description</th>\n",
       "    </tr>\n",
       "  </thead>\n",
       "  <tbody>\n",
       "    <tr>\n",
       "      <th>0</th>\n",
       "      <td>city_of_missing_girls</td>\n",
       "      <td>City of Missing Girls</td>\n",
       "      <td>1940 1941 1942</td>\n",
       "      <td>Mar 27, 1941 Wide</td>\n",
       "      <td>Elmer Clifton</td>\n",
       "      <td>Oliver Drake,George Rosener</td>\n",
       "      <td></td>\n",
       "      <td>1 hr. 13 min.</td>\n",
       "      <td></td>\n",
       "      <td>Unrated</td>\n",
       "      <td>Drama,Mystery &amp; Suspense,Classics</td>\n",
       "      <td>http://www.rottentomatoes.com/m/city_of_missin...</td>\n",
       "      <td>In this murder mystery, a female reporter inve...</td>\n",
       "    </tr>\n",
       "    <tr>\n",
       "      <th>1</th>\n",
       "      <td>gay_divorcee</td>\n",
       "      <td>The Gay Divorcee</td>\n",
       "      <td>1933 1934 1935</td>\n",
       "      <td>Oct 12, 1934 Limited</td>\n",
       "      <td>Mark Sandrich</td>\n",
       "      <td>J. Hartley Manners,George Marion,Dorothy Yost,...</td>\n",
       "      <td></td>\n",
       "      <td>1 hr. 47 min.</td>\n",
       "      <td>7.8/10</td>\n",
       "      <td>Unrated</td>\n",
       "      <td>Drama,Romance,Musical &amp; Performing Arts,Classi...</td>\n",
       "      <td>http://www.rottentomatoes.com/m/gay_divorcee/</td>\n",
       "      <td>One of the finest Fred Astaire and Ginger Roge...</td>\n",
       "    </tr>\n",
       "    <tr>\n",
       "      <th>2</th>\n",
       "      <td>divorcee</td>\n",
       "      <td>The Divorcée</td>\n",
       "      <td>1929 1930 1931</td>\n",
       "      <td>Apr 19, 1930 Wide</td>\n",
       "      <td>Robert Z. Leonard</td>\n",
       "      <td>Ursula Parrott,John Meehan,John Meehan, Jr.,Jo...</td>\n",
       "      <td></td>\n",
       "      <td>1 hr. 23 min.</td>\n",
       "      <td>6.4/10</td>\n",
       "      <td>Unrated</td>\n",
       "      <td>Drama,Romance,Classics</td>\n",
       "      <td>http://www.rottentomatoes.com/m/divorcee/</td>\n",
       "      <td>Norma Shearer earned an Academy Award for play...</td>\n",
       "    </tr>\n",
       "    <tr>\n",
       "      <th>3</th>\n",
       "      <td>1009470-hells_angels_on_wheels</td>\n",
       "      <td>Hells Angels on Wheels</td>\n",
       "      <td>1966 1967 1968</td>\n",
       "      <td>Jan 1, 1967 Wide</td>\n",
       "      <td>Richard Rush</td>\n",
       "      <td>Robert Wright Campbell</td>\n",
       "      <td>Adam Roarke,Jack Nicholson,Sabrina Scharf,Jana...</td>\n",
       "      <td>1 hr. 35 min.</td>\n",
       "      <td>4.4/10</td>\n",
       "      <td>R</td>\n",
       "      <td>Classics,Action &amp; Adventure</td>\n",
       "      <td>http://www.rottentomatoes.com/m/1009470-hells_...</td>\n",
       "      <td>Jack Nicholson, in one of his earliest roles, ...</td>\n",
       "    </tr>\n",
       "    <tr>\n",
       "      <th>4</th>\n",
       "      <td>the-miracle-woman-1932</td>\n",
       "      <td>The Miracle Woman</td>\n",
       "      <td>1984 1985 1986</td>\n",
       "      <td>Jan 1, 1985 Wide</td>\n",
       "      <td>Ketan Mehta</td>\n",
       "      <td>Shafi Hakim,Hriday Lani</td>\n",
       "      <td></td>\n",
       "      <td></td>\n",
       "      <td></td>\n",
       "      <td>Unrated</td>\n",
       "      <td>Drama</td>\n",
       "      <td>http://www.rottentomatoes.com/m/the-miracle-wo...</td>\n",
       "      <td></td>\n",
       "    </tr>\n",
       "  </tbody>\n",
       "</table>\n",
       "</div>"
      ],
      "text/plain": [
       "                               Id                    Name       YearRange  \\\n",
       "0           city_of_missing_girls   City of Missing Girls  1940 1941 1942   \n",
       "1                    gay_divorcee        The Gay Divorcee  1933 1934 1935   \n",
       "2                        divorcee            The Divorcée  1929 1930 1931   \n",
       "3  1009470-hells_angels_on_wheels  Hells Angels on Wheels  1966 1967 1968   \n",
       "4          the-miracle-woman-1932       The Miracle Woman  1984 1985 1986   \n",
       "\n",
       "            ReleaseDate           Director  \\\n",
       "0     Mar 27, 1941 Wide      Elmer Clifton   \n",
       "1  Oct 12, 1934 Limited      Mark Sandrich   \n",
       "2     Apr 19, 1930 Wide  Robert Z. Leonard   \n",
       "3      Jan 1, 1967 Wide       Richard Rush   \n",
       "4      Jan 1, 1985 Wide        Ketan Mehta   \n",
       "\n",
       "                                             Creator  \\\n",
       "0                        Oliver Drake,George Rosener   \n",
       "1  J. Hartley Manners,George Marion,Dorothy Yost,...   \n",
       "2  Ursula Parrott,John Meehan,John Meehan, Jr.,Jo...   \n",
       "3                             Robert Wright Campbell   \n",
       "4                            Shafi Hakim,Hriday Lani   \n",
       "\n",
       "                                                Cast       Duration  \\\n",
       "0                                                     1 hr. 13 min.   \n",
       "1                                                     1 hr. 47 min.   \n",
       "2                                                     1 hr. 23 min.   \n",
       "3  Adam Roarke,Jack Nicholson,Sabrina Scharf,Jana...  1 hr. 35 min.   \n",
       "4                                                                     \n",
       "\n",
       "  RatingValue ContentRating  \\\n",
       "0                   Unrated   \n",
       "1      7.8/10       Unrated   \n",
       "2      6.4/10       Unrated   \n",
       "3      4.4/10             R   \n",
       "4                   Unrated   \n",
       "\n",
       "                                               Genre  \\\n",
       "0                  Drama,Mystery & Suspense,Classics   \n",
       "1  Drama,Romance,Musical & Performing Arts,Classi...   \n",
       "2                             Drama,Romance,Classics   \n",
       "3                        Classics,Action & Adventure   \n",
       "4                                              Drama   \n",
       "\n",
       "                                                 Url  \\\n",
       "0  http://www.rottentomatoes.com/m/city_of_missin...   \n",
       "1      http://www.rottentomatoes.com/m/gay_divorcee/   \n",
       "2          http://www.rottentomatoes.com/m/divorcee/   \n",
       "3  http://www.rottentomatoes.com/m/1009470-hells_...   \n",
       "4  http://www.rottentomatoes.com/m/the-miracle-wo...   \n",
       "\n",
       "                                         Description  \n",
       "0  In this murder mystery, a female reporter inve...  \n",
       "1  One of the finest Fred Astaire and Ginger Roge...  \n",
       "2  Norma Shearer earned an Academy Award for play...  \n",
       "3  Jack Nicholson, in one of his earliest roles, ...  \n",
       "4                                                     "
      ]
     },
     "execution_count": 8,
     "metadata": {},
     "output_type": "execute_result"
    }
   ],
   "source": [
    "imdb_split.head()"
   ]
  },
  {
   "cell_type": "code",
   "execution_count": 10,
   "id": "mounted-stereo",
   "metadata": {},
   "outputs": [
    {
     "data": {
      "text/html": [
       "<div>\n",
       "<style scoped>\n",
       "    .dataframe tbody tr th:only-of-type {\n",
       "        vertical-align: middle;\n",
       "    }\n",
       "\n",
       "    .dataframe tbody tr th {\n",
       "        vertical-align: top;\n",
       "    }\n",
       "\n",
       "    .dataframe thead th {\n",
       "        text-align: right;\n",
       "    }\n",
       "</style>\n",
       "<table border=\"1\" class=\"dataframe\">\n",
       "  <thead>\n",
       "    <tr style=\"text-align: right;\">\n",
       "      <th></th>\n",
       "      <th>Id</th>\n",
       "      <th>Name</th>\n",
       "      <th>Year</th>\n",
       "      <th>Release Date</th>\n",
       "      <th>Director</th>\n",
       "      <th>Creator</th>\n",
       "      <th>Actors</th>\n",
       "      <th>Cast</th>\n",
       "      <th>Language</th>\n",
       "      <th>Country</th>\n",
       "      <th>Duration</th>\n",
       "      <th>RatingValue</th>\n",
       "      <th>RatingCount</th>\n",
       "      <th>ReviewCount</th>\n",
       "      <th>Genre</th>\n",
       "      <th>Filming Locations</th>\n",
       "      <th>Description</th>\n",
       "    </tr>\n",
       "  </thead>\n",
       "  <tbody>\n",
       "    <tr>\n",
       "      <th>0</th>\n",
       "      <td>tt0054215</td>\n",
       "      <td>Psycho</td>\n",
       "      <td>1960</td>\n",
       "      <td>8 September 1960 (USA)</td>\n",
       "      <td>Alfred Hitchcock</td>\n",
       "      <td>Joseph Stefano,Robert Bloch</td>\n",
       "      <td>Anthony Perkins,Janet Leigh,Vera Miles</td>\n",
       "      <td>Anthony Perkins,Vera Miles,John Gavin,Janet Le...</td>\n",
       "      <td>English</td>\n",
       "      <td>USA</td>\n",
       "      <td>109 min</td>\n",
       "      <td>8.6</td>\n",
       "      <td>379,998</td>\n",
       "      <td>976 user,290 critic</td>\n",
       "      <td>Horror,Mystery,Thriller</td>\n",
       "      <td>Title and Trust Building, 114 West Adams Stree...</td>\n",
       "      <td>A Phoenix secretary steals $40,000 from her em...</td>\n",
       "    </tr>\n",
       "    <tr>\n",
       "      <th>1</th>\n",
       "      <td>tt0088993</td>\n",
       "      <td>Day of the Dead</td>\n",
       "      <td>1985</td>\n",
       "      <td>19 July 1985 (USA)</td>\n",
       "      <td>George A. Romero</td>\n",
       "      <td>George A. Romero</td>\n",
       "      <td>Lori Cardille,Terry Alexander,Joseph Pilato</td>\n",
       "      <td>Lori Cardille,Terry Alexander,Joseph Pilato,Ja...</td>\n",
       "      <td>English</td>\n",
       "      <td>USA</td>\n",
       "      <td>96 min</td>\n",
       "      <td>7.2</td>\n",
       "      <td>46,421</td>\n",
       "      <td>414 user,177 critic</td>\n",
       "      <td>Action,Drama,Horror</td>\n",
       "      <td>Sanibel Island, Florida, USA</td>\n",
       "      <td>A small group of military officers and scienti...</td>\n",
       "    </tr>\n",
       "    <tr>\n",
       "      <th>2</th>\n",
       "      <td>tt0032484</td>\n",
       "      <td>Foreign Correspondent</td>\n",
       "      <td>1940</td>\n",
       "      <td>16 August 1940 (USA)</td>\n",
       "      <td>Alfred Hitchcock</td>\n",
       "      <td>Charles Bennett,Joan Harrison</td>\n",
       "      <td>Joel McCrea,Laraine Day,Herbert Marshall</td>\n",
       "      <td>Joel McCrea,Laraine Day,Herbert Marshall,Georg...</td>\n",
       "      <td>English,Dutch,Latvian</td>\n",
       "      <td>USA</td>\n",
       "      <td>120 min</td>\n",
       "      <td>7.6</td>\n",
       "      <td>12,684</td>\n",
       "      <td>124 user,73 critic</td>\n",
       "      <td>Romance,Thriller,War</td>\n",
       "      <td>Hotel de l'Europe, Nieuwe Doelenstraat 2-14, A...</td>\n",
       "      <td>On the eve of WWII, a young American reporter ...</td>\n",
       "    </tr>\n",
       "    <tr>\n",
       "      <th>3</th>\n",
       "      <td>tt0889671</td>\n",
       "      <td>Trumbo</td>\n",
       "      <td>2007</td>\n",
       "      <td>27 June 2008 (USA)</td>\n",
       "      <td>Peter Askin</td>\n",
       "      <td>Christopher Trumbo,Christopher Trumbo</td>\n",
       "      <td>Dalton Trumbo,Joan Allen,Brian Dennehy</td>\n",
       "      <td>Dalton Trumbo,Joan Allen,Brian Dennehy,Michael...</td>\n",
       "      <td>English</td>\n",
       "      <td>USA</td>\n",
       "      <td>96 min</td>\n",
       "      <td>7.5</td>\n",
       "      <td>724</td>\n",
       "      <td>14 user,33 critic</td>\n",
       "      <td>Documentary,Biography</td>\n",
       "      <td></td>\n",
       "      <td>Through a focus on the life of Dalton Trumbo (...</td>\n",
       "    </tr>\n",
       "    <tr>\n",
       "      <th>4</th>\n",
       "      <td>tt1325014</td>\n",
       "      <td>The People vs. George Lucas</td>\n",
       "      <td>2010</td>\n",
       "      <td>29 August 2011 (USA)</td>\n",
       "      <td>Alexandre O. Philippe</td>\n",
       "      <td>Alexandre O. Philippe</td>\n",
       "      <td>Joe Nussbaum,Daryl Frazetti,Doug Jones</td>\n",
       "      <td>Joe Nussbaum,Daryl Frazetti,Doug Jones,Damian ...</td>\n",
       "      <td>English,French</td>\n",
       "      <td>USA,UK</td>\n",
       "      <td>93 min</td>\n",
       "      <td>6.7</td>\n",
       "      <td>3,341</td>\n",
       "      <td>27 user,49 critic</td>\n",
       "      <td>Documentary,Comedy</td>\n",
       "      <td>Geneva, Canton de Genève, Switzerland</td>\n",
       "      <td>An examination of the widespread fan disenchan...</td>\n",
       "    </tr>\n",
       "  </tbody>\n",
       "</table>\n",
       "</div>"
      ],
      "text/plain": [
       "          Id                         Name  Year            Release Date  \\\n",
       "0  tt0054215                       Psycho  1960  8 September 1960 (USA)   \n",
       "1  tt0088993              Day of the Dead  1985      19 July 1985 (USA)   \n",
       "2  tt0032484        Foreign Correspondent  1940    16 August 1940 (USA)   \n",
       "3  tt0889671                       Trumbo  2007      27 June 2008 (USA)   \n",
       "4  tt1325014  The People vs. George Lucas  2010    29 August 2011 (USA)   \n",
       "\n",
       "                Director                                Creator  \\\n",
       "0       Alfred Hitchcock            Joseph Stefano,Robert Bloch   \n",
       "1       George A. Romero                       George A. Romero   \n",
       "2       Alfred Hitchcock          Charles Bennett,Joan Harrison   \n",
       "3            Peter Askin  Christopher Trumbo,Christopher Trumbo   \n",
       "4  Alexandre O. Philippe                  Alexandre O. Philippe   \n",
       "\n",
       "                                        Actors  \\\n",
       "0       Anthony Perkins,Janet Leigh,Vera Miles   \n",
       "1  Lori Cardille,Terry Alexander,Joseph Pilato   \n",
       "2     Joel McCrea,Laraine Day,Herbert Marshall   \n",
       "3       Dalton Trumbo,Joan Allen,Brian Dennehy   \n",
       "4       Joe Nussbaum,Daryl Frazetti,Doug Jones   \n",
       "\n",
       "                                                Cast               Language  \\\n",
       "0  Anthony Perkins,Vera Miles,John Gavin,Janet Le...                English   \n",
       "1  Lori Cardille,Terry Alexander,Joseph Pilato,Ja...                English   \n",
       "2  Joel McCrea,Laraine Day,Herbert Marshall,Georg...  English,Dutch,Latvian   \n",
       "3  Dalton Trumbo,Joan Allen,Brian Dennehy,Michael...                English   \n",
       "4  Joe Nussbaum,Daryl Frazetti,Doug Jones,Damian ...         English,French   \n",
       "\n",
       "  Country Duration RatingValue RatingCount          ReviewCount  \\\n",
       "0     USA  109 min         8.6     379,998  976 user,290 critic   \n",
       "1     USA   96 min         7.2      46,421  414 user,177 critic   \n",
       "2     USA  120 min         7.6      12,684   124 user,73 critic   \n",
       "3     USA   96 min         7.5         724    14 user,33 critic   \n",
       "4  USA,UK   93 min         6.7       3,341    27 user,49 critic   \n",
       "\n",
       "                     Genre                                  Filming Locations  \\\n",
       "0  Horror,Mystery,Thriller  Title and Trust Building, 114 West Adams Stree...   \n",
       "1      Action,Drama,Horror                       Sanibel Island, Florida, USA   \n",
       "2     Romance,Thriller,War  Hotel de l'Europe, Nieuwe Doelenstraat 2-14, A...   \n",
       "3    Documentary,Biography                                                      \n",
       "4       Documentary,Comedy              Geneva, Canton de Genève, Switzerland   \n",
       "\n",
       "                                         Description  \n",
       "0  A Phoenix secretary steals $40,000 from her em...  \n",
       "1  A small group of military officers and scienti...  \n",
       "2  On the eve of WWII, a young American reporter ...  \n",
       "3  Through a focus on the life of Dalton Trumbo (...  \n",
       "4  An examination of the widespread fan disenchan...  "
      ]
     },
     "execution_count": 10,
     "metadata": {},
     "output_type": "execute_result"
    }
   ],
   "source": [
    "rt_split.head()"
   ]
  },
  {
   "cell_type": "code",
   "execution_count": 12,
   "id": "genuine-persian",
   "metadata": {},
   "outputs": [],
   "source": [
    "imdb_info = imdb_split[['Name', 'Director']]\n",
    "rt_info = rt_split[['Name', 'Director']]"
   ]
  },
  {
   "cell_type": "code",
   "execution_count": 13,
   "id": "loving-bandwidth",
   "metadata": {},
   "outputs": [
    {
     "data": {
      "text/html": [
       "<div>\n",
       "<style scoped>\n",
       "    .dataframe tbody tr th:only-of-type {\n",
       "        vertical-align: middle;\n",
       "    }\n",
       "\n",
       "    .dataframe tbody tr th {\n",
       "        vertical-align: top;\n",
       "    }\n",
       "\n",
       "    .dataframe thead th {\n",
       "        text-align: right;\n",
       "    }\n",
       "</style>\n",
       "<table border=\"1\" class=\"dataframe\">\n",
       "  <thead>\n",
       "    <tr style=\"text-align: right;\">\n",
       "      <th></th>\n",
       "      <th>Name</th>\n",
       "      <th>Director</th>\n",
       "    </tr>\n",
       "  </thead>\n",
       "  <tbody>\n",
       "    <tr>\n",
       "      <th>0</th>\n",
       "      <td>City of Missing Girls</td>\n",
       "      <td>Elmer Clifton</td>\n",
       "    </tr>\n",
       "    <tr>\n",
       "      <th>1</th>\n",
       "      <td>The Gay Divorcee</td>\n",
       "      <td>Mark Sandrich</td>\n",
       "    </tr>\n",
       "    <tr>\n",
       "      <th>2</th>\n",
       "      <td>The Divorcée</td>\n",
       "      <td>Robert Z. Leonard</td>\n",
       "    </tr>\n",
       "    <tr>\n",
       "      <th>3</th>\n",
       "      <td>Hells Angels on Wheels</td>\n",
       "      <td>Richard Rush</td>\n",
       "    </tr>\n",
       "    <tr>\n",
       "      <th>4</th>\n",
       "      <td>The Miracle Woman</td>\n",
       "      <td>Ketan Mehta</td>\n",
       "    </tr>\n",
       "  </tbody>\n",
       "</table>\n",
       "</div>"
      ],
      "text/plain": [
       "                     Name           Director\n",
       "0   City of Missing Girls      Elmer Clifton\n",
       "1        The Gay Divorcee      Mark Sandrich\n",
       "2            The Divorcée  Robert Z. Leonard\n",
       "3  Hells Angels on Wheels       Richard Rush\n",
       "4       The Miracle Woman        Ketan Mehta"
      ]
     },
     "execution_count": 13,
     "metadata": {},
     "output_type": "execute_result"
    }
   ],
   "source": [
    "imdb_info.head()"
   ]
  },
  {
   "cell_type": "code",
   "execution_count": 14,
   "id": "married-heater",
   "metadata": {},
   "outputs": [
    {
     "data": {
      "text/html": [
       "<div>\n",
       "<style scoped>\n",
       "    .dataframe tbody tr th:only-of-type {\n",
       "        vertical-align: middle;\n",
       "    }\n",
       "\n",
       "    .dataframe tbody tr th {\n",
       "        vertical-align: top;\n",
       "    }\n",
       "\n",
       "    .dataframe thead th {\n",
       "        text-align: right;\n",
       "    }\n",
       "</style>\n",
       "<table border=\"1\" class=\"dataframe\">\n",
       "  <thead>\n",
       "    <tr style=\"text-align: right;\">\n",
       "      <th></th>\n",
       "      <th>Name</th>\n",
       "      <th>Director</th>\n",
       "    </tr>\n",
       "  </thead>\n",
       "  <tbody>\n",
       "    <tr>\n",
       "      <th>0</th>\n",
       "      <td>Psycho</td>\n",
       "      <td>Alfred Hitchcock</td>\n",
       "    </tr>\n",
       "    <tr>\n",
       "      <th>1</th>\n",
       "      <td>Day of the Dead</td>\n",
       "      <td>George A. Romero</td>\n",
       "    </tr>\n",
       "    <tr>\n",
       "      <th>2</th>\n",
       "      <td>Foreign Correspondent</td>\n",
       "      <td>Alfred Hitchcock</td>\n",
       "    </tr>\n",
       "    <tr>\n",
       "      <th>3</th>\n",
       "      <td>Trumbo</td>\n",
       "      <td>Peter Askin</td>\n",
       "    </tr>\n",
       "    <tr>\n",
       "      <th>4</th>\n",
       "      <td>The People vs. George Lucas</td>\n",
       "      <td>Alexandre O. Philippe</td>\n",
       "    </tr>\n",
       "  </tbody>\n",
       "</table>\n",
       "</div>"
      ],
      "text/plain": [
       "                          Name               Director\n",
       "0                       Psycho       Alfred Hitchcock\n",
       "1              Day of the Dead       George A. Romero\n",
       "2        Foreign Correspondent       Alfred Hitchcock\n",
       "3                       Trumbo            Peter Askin\n",
       "4  The People vs. George Lucas  Alexandre O. Philippe"
      ]
     },
     "execution_count": 14,
     "metadata": {},
     "output_type": "execute_result"
    }
   ],
   "source": [
    "rt_info.head()"
   ]
  },
  {
   "cell_type": "code",
   "execution_count": 15,
   "id": "driving-watts",
   "metadata": {},
   "outputs": [
    {
     "data": {
      "text/html": [
       "<div>\n",
       "<style scoped>\n",
       "    .dataframe tbody tr th:only-of-type {\n",
       "        vertical-align: middle;\n",
       "    }\n",
       "\n",
       "    .dataframe tbody tr th {\n",
       "        vertical-align: top;\n",
       "    }\n",
       "\n",
       "    .dataframe thead th {\n",
       "        text-align: right;\n",
       "    }\n",
       "</style>\n",
       "<table border=\"1\" class=\"dataframe\">\n",
       "  <thead>\n",
       "    <tr style=\"text-align: right;\">\n",
       "      <th></th>\n",
       "      <th>Name</th>\n",
       "      <th>Director</th>\n",
       "    </tr>\n",
       "  </thead>\n",
       "  <tbody>\n",
       "    <tr>\n",
       "      <th>0</th>\n",
       "      <td>City of Missing Girls</td>\n",
       "      <td>Elmer Clifton</td>\n",
       "    </tr>\n",
       "    <tr>\n",
       "      <th>1</th>\n",
       "      <td>The Gay Divorcee</td>\n",
       "      <td>Mark Sandrich</td>\n",
       "    </tr>\n",
       "    <tr>\n",
       "      <th>2</th>\n",
       "      <td>The Divorcée</td>\n",
       "      <td>Robert Z. Leonard</td>\n",
       "    </tr>\n",
       "    <tr>\n",
       "      <th>3</th>\n",
       "      <td>Hells Angels on Wheels</td>\n",
       "      <td>Richard Rush</td>\n",
       "    </tr>\n",
       "    <tr>\n",
       "      <th>4</th>\n",
       "      <td>The Miracle Woman</td>\n",
       "      <td>Ketan Mehta</td>\n",
       "    </tr>\n",
       "  </tbody>\n",
       "</table>\n",
       "</div>"
      ],
      "text/plain": [
       "                     Name           Director\n",
       "0   City of Missing Girls      Elmer Clifton\n",
       "1        The Gay Divorcee      Mark Sandrich\n",
       "2            The Divorcée  Robert Z. Leonard\n",
       "3  Hells Angels on Wheels       Richard Rush\n",
       "4       The Miracle Woman        Ketan Mehta"
      ]
     },
     "execution_count": 15,
     "metadata": {},
     "output_type": "execute_result"
    }
   ],
   "source": [
    "all_info = pd.concat([imdb_info, rt_info], ignore_index=True)\n",
    "all_info.head()"
   ]
  },
  {
   "cell_type": "code",
   "execution_count": 16,
   "id": "collaborative-exploration",
   "metadata": {},
   "outputs": [],
   "source": [
    "u_names = all_info['Name'].unique()"
   ]
  },
  {
   "cell_type": "code",
   "execution_count": 17,
   "id": "social-interface",
   "metadata": {},
   "outputs": [
    {
     "data": {
      "text/plain": [
       "16842"
      ]
     },
     "execution_count": 17,
     "metadata": {},
     "output_type": "execute_result"
    }
   ],
   "source": [
    "len(all_info)"
   ]
  },
  {
   "cell_type": "code",
   "execution_count": 18,
   "id": "timely-destination",
   "metadata": {},
   "outputs": [
    {
     "data": {
      "text/plain": [
       "9283"
      ]
     },
     "execution_count": 18,
     "metadata": {},
     "output_type": "execute_result"
    }
   ],
   "source": [
    "len(u_names)"
   ]
  },
  {
   "cell_type": "code",
   "execution_count": 19,
   "id": "front-cheese",
   "metadata": {},
   "outputs": [],
   "source": [
    "u_dirs = all_info['Director'].unique()"
   ]
  },
  {
   "cell_type": "code",
   "execution_count": 20,
   "id": "returning-group",
   "metadata": {},
   "outputs": [
    {
     "data": {
      "text/plain": [
       "7123"
      ]
     },
     "execution_count": 20,
     "metadata": {},
     "output_type": "execute_result"
    }
   ],
   "source": [
    "len(u_dirs)"
   ]
  },
  {
   "cell_type": "code",
   "execution_count": 21,
   "id": "direct-controversy",
   "metadata": {},
   "outputs": [],
   "source": [
    "# lst_col = 'Director'\n",
    "# x = all_info.assign(**{lst_col:all_info[lst_col].str.split(',')})"
   ]
  },
  {
   "cell_type": "code",
   "execution_count": 22,
   "id": "mediterranean-acceptance",
   "metadata": {},
   "outputs": [],
   "source": [
    "# x.head()"
   ]
  },
  {
   "cell_type": "code",
   "execution_count": 23,
   "id": "victorian-reader",
   "metadata": {},
   "outputs": [],
   "source": [
    "# all_split = pd.DataFrame({\n",
    "#     col:np.repeat(x[col].values, x[lst_col].str.len())\n",
    "#     for col in x.columns.difference([lst_col])\n",
    "#     }).assign(**{lst_col:np.concatenate(x[lst_col].values)})[x.columns.tolist()]"
   ]
  },
  {
   "cell_type": "code",
   "execution_count": 28,
   "id": "alike-transmission",
   "metadata": {},
   "outputs": [],
   "source": [
    "# all_split.head()"
   ]
  },
  {
   "cell_type": "code",
   "execution_count": 26,
   "id": "excess-diversity",
   "metadata": {},
   "outputs": [],
   "source": [
    "# len(all_split)"
   ]
  },
  {
   "cell_type": "code",
   "execution_count": 24,
   "id": "quarterly-forge",
   "metadata": {},
   "outputs": [],
   "source": [
    "# s_names = pd.Series(all_\n",
    "#                     split['Name'].unique())\n",
    "# s_dirs = pd.Series(all_split['Director'].unique())"
   ]
  },
  {
   "cell_type": "code",
   "execution_count": 25,
   "id": "antique-denial",
   "metadata": {},
   "outputs": [],
   "source": [
    "# print(len(s_names))\n",
    "# print(len(s_dirs))"
   ]
  },
  {
   "cell_type": "code",
   "execution_count": 29,
   "id": "incomplete-spelling",
   "metadata": {},
   "outputs": [
    {
     "name": "stdout",
     "output_type": "stream",
     "text": [
      "                     Name           Director  Name_code  Director_code\n",
      "0   City of Missing Girls      Elmer Clifton       1501           1927\n",
      "1        The Gay Divorcee      Mark Sandrich       7230           4414\n",
      "2            The Divorcée  Robert Z. Leonard       7074           5794\n",
      "3  Hells Angels on Wheels       Richard Rush       3081           5615\n",
      "4       The Miracle Woman        Ketan Mehta       7729           3868\n",
      "16842\n",
      "9282\n",
      "7122\n"
     ]
    }
   ],
   "source": [
    "all_split_code = all_info.copy()\n",
    "all_split_code['Name_code'] = all_split_code['Name'].astype('category').cat.codes\n",
    "all_split_code['Director_code'] = all_split_code['Director'].astype('category').cat.codes\n",
    "print(all_split_code.head())\n",
    "print(len(all_split_code))\n",
    "print(all_split_code['Name_code'].max())\n",
    "print(all_split_code['Director_code'].max())"
   ]
  },
  {
   "cell_type": "code",
   "execution_count": 30,
   "id": "suburban-mileage",
   "metadata": {},
   "outputs": [],
   "source": [
    "# s_names.to_csv('names_map.txt', sep='\\t', header=False)\n",
    "# s_dirs.to_csv('directors_map.txt', sep='\\t', header=False)"
   ]
  },
  {
   "cell_type": "code",
   "execution_count": 46,
   "id": "rental-seeking",
   "metadata": {},
   "outputs": [],
   "source": [
    "u_names = all_split_code[['Name_code', 'Name']].drop_duplicates()\n",
    "u_dirs = all_split_code[['Director_code', 'Director']].drop_duplicates()"
   ]
  },
  {
   "cell_type": "code",
   "execution_count": 48,
   "id": "electronic-processor",
   "metadata": {},
   "outputs": [],
   "source": [
    "u_names.to_csv('./data/movie_obs.txt', sep='\\t', header=False, index=False)\n",
    "u_dirs.to_csv('./data/directors_obs.txt', sep='\\t', header=False, index=False)"
   ]
  },
  {
   "cell_type": "code",
   "execution_count": 32,
   "id": "concrete-living",
   "metadata": {},
   "outputs": [],
   "source": [
    "import rltk"
   ]
  },
  {
   "cell_type": "code",
   "execution_count": 97,
   "id": "crazy-institution",
   "metadata": {},
   "outputs": [],
   "source": [
    "class IMDBRecord(rltk.Record):\n",
    "    def __init__(self, raw_object):\n",
    "        super().__init__(raw_object)\n",
    "        self.name = ''\n",
    "    \n",
    "    @rltk.cached_property\n",
    "    def id(self):\n",
    "        return self.raw_object['Id']\n",
    "    \n",
    "    @rltk.cached_property\n",
    "    def title(self):\n",
    "        return self.raw_object['Name']\n",
    "    \n",
    "    @rltk.cached_property\n",
    "    def director(self):\n",
    "        return self.raw_object['Director']\n",
    "    \n",
    "    @rltk.cached_property\n",
    "    def director_last(self):\n",
    "        return self.raw_object['Director'].split()[-1]"
   ]
  },
  {
   "cell_type": "code",
   "execution_count": 98,
   "id": "developmental-planner",
   "metadata": {},
   "outputs": [],
   "source": [
    "imdb_ds = rltk.Dataset(rltk.DataFrameReader(imdb_split), record_class=IMDBRecord)"
   ]
  },
  {
   "cell_type": "code",
   "execution_count": 99,
   "id": "built-stuart",
   "metadata": {},
   "outputs": [],
   "source": [
    "class RTRecord(rltk.Record):\n",
    "    def __init__(self, raw_object):\n",
    "        super().__init__(raw_object)\n",
    "        self.name = ''\n",
    "    \n",
    "    @rltk.cached_property\n",
    "    def id(self):\n",
    "        return self.raw_object['Id']\n",
    "    \n",
    "    @rltk.cached_property\n",
    "    def title(self):\n",
    "        return self.raw_object['Name']\n",
    "    \n",
    "    @rltk.cached_property\n",
    "    def director(self):\n",
    "        return self.raw_object['Director']\n",
    "    \n",
    "    @rltk.cached_property\n",
    "    def director_last(self):\n",
    "        return self.raw_object['Director'].split()[-1]"
   ]
  },
  {
   "cell_type": "code",
   "execution_count": 100,
   "id": "accompanied-spotlight",
   "metadata": {},
   "outputs": [],
   "source": [
    "rt_ds = rltk.Dataset(rltk.DataFrameReader(rt_split), record_class=RTRecord)"
   ]
  },
  {
   "cell_type": "code",
   "execution_count": 101,
   "id": "processed-brunei",
   "metadata": {},
   "outputs": [],
   "source": [
    "bg = rltk.HashBlockGenerator()\n",
    "block = bg.generate(\n",
    "    bg.block(imdb_ds, property_='director_last'),\n",
    "    bg.block(rt_ds, property_='director_last')\n",
    ")"
   ]
  },
  {
   "cell_type": "code",
   "execution_count": 38,
   "id": "devoted-bulletin",
   "metadata": {},
   "outputs": [],
   "source": [
    "# url = 'http://pages.cs.wisc.edu/~anhai/data/784_data/movies1/csv_files/labeled_data.csv'\n",
    "# open('labeled_data.csv', 'wb').write(requests.get(url).content)\n",
    "label_df = pd.read_csv('labeled_data.csv', sep=',', encoding='utf-8', comment='#',\n",
    "                      error_bad_lines=False, warn_bad_lines=False, dtype=str, na_filter=False).fillna(\"\")"
   ]
  },
  {
   "cell_type": "code",
   "execution_count": 39,
   "id": "dress-durham",
   "metadata": {},
   "outputs": [
    {
     "data": {
      "text/html": [
       "<div>\n",
       "<style scoped>\n",
       "    .dataframe tbody tr th:only-of-type {\n",
       "        vertical-align: middle;\n",
       "    }\n",
       "\n",
       "    .dataframe tbody tr th {\n",
       "        vertical-align: top;\n",
       "    }\n",
       "\n",
       "    .dataframe thead th {\n",
       "        text-align: right;\n",
       "    }\n",
       "</style>\n",
       "<table border=\"1\" class=\"dataframe\">\n",
       "  <thead>\n",
       "    <tr style=\"text-align: right;\">\n",
       "      <th></th>\n",
       "      <th>_id</th>\n",
       "      <th>ltable.Id</th>\n",
       "      <th>rtable.Id</th>\n",
       "      <th>ltable.Director</th>\n",
       "      <th>ltable.Name</th>\n",
       "      <th>ltable.Year</th>\n",
       "      <th>rtable.Director</th>\n",
       "      <th>rtable.Name</th>\n",
       "      <th>rtable.YearRange</th>\n",
       "      <th>gold</th>\n",
       "    </tr>\n",
       "  </thead>\n",
       "  <tbody>\n",
       "    <tr>\n",
       "      <th>0</th>\n",
       "      <td>5</td>\n",
       "      <td>tt0014341</td>\n",
       "      <td>the_last_man_on_earth_1924</td>\n",
       "      <td>John G. Blystone,Buster Keaton</td>\n",
       "      <td>Our Hospitality</td>\n",
       "      <td>1923</td>\n",
       "      <td>John G. Blystone</td>\n",
       "      <td>The Last Man on Earth</td>\n",
       "      <td>1923 1924 1925</td>\n",
       "      <td>0</td>\n",
       "    </tr>\n",
       "    <tr>\n",
       "      <th>1</th>\n",
       "      <td>38</td>\n",
       "      <td>tt0021749</td>\n",
       "      <td>our-daily-bread-city-girl</td>\n",
       "      <td>Charles Chaplin</td>\n",
       "      <td>City Lights</td>\n",
       "      <td>1931</td>\n",
       "      <td>F.W. Murnau,Friedrich Wilhelm Murnau</td>\n",
       "      <td>City Girl</td>\n",
       "      <td>1929 1930 1931</td>\n",
       "      <td>0</td>\n",
       "    </tr>\n",
       "    <tr>\n",
       "      <th>2</th>\n",
       "      <td>54</td>\n",
       "      <td>tt0022208</td>\n",
       "      <td>the-conquerors1932</td>\n",
       "      <td>William A. Wellman</td>\n",
       "      <td>Night Nurse</td>\n",
       "      <td>1931</td>\n",
       "      <td>William Wellman</td>\n",
       "      <td>The Conquerors</td>\n",
       "      <td>1931 1932 1933</td>\n",
       "      <td>0</td>\n",
       "    </tr>\n",
       "    <tr>\n",
       "      <th>3</th>\n",
       "      <td>68</td>\n",
       "      <td>tt0022550</td>\n",
       "      <td>1061171-old_dark_house</td>\n",
       "      <td>James Whale</td>\n",
       "      <td>Waterloo Bridge</td>\n",
       "      <td>1931</td>\n",
       "      <td>James Whale</td>\n",
       "      <td>The Old Dark House</td>\n",
       "      <td>1931 1932 1933</td>\n",
       "      <td>0</td>\n",
       "    </tr>\n",
       "    <tr>\n",
       "      <th>4</th>\n",
       "      <td>129</td>\n",
       "      <td>tt0024115</td>\n",
       "      <td>the-conquerors1932</td>\n",
       "      <td>William A. Wellman</td>\n",
       "      <td>Heroes for Sale</td>\n",
       "      <td>1933</td>\n",
       "      <td>William Wellman</td>\n",
       "      <td>The Conquerors</td>\n",
       "      <td>1931 1932 1933</td>\n",
       "      <td>0</td>\n",
       "    </tr>\n",
       "  </tbody>\n",
       "</table>\n",
       "</div>"
      ],
      "text/plain": [
       "   _id  ltable.Id                   rtable.Id                 ltable.Director  \\\n",
       "0    5  tt0014341  the_last_man_on_earth_1924  John G. Blystone,Buster Keaton   \n",
       "1   38  tt0021749   our-daily-bread-city-girl                 Charles Chaplin   \n",
       "2   54  tt0022208          the-conquerors1932              William A. Wellman   \n",
       "3   68  tt0022550      1061171-old_dark_house                     James Whale   \n",
       "4  129  tt0024115          the-conquerors1932              William A. Wellman   \n",
       "\n",
       "       ltable.Name ltable.Year                       rtable.Director  \\\n",
       "0  Our Hospitality        1923                      John G. Blystone   \n",
       "1      City Lights        1931  F.W. Murnau,Friedrich Wilhelm Murnau   \n",
       "2      Night Nurse        1931                       William Wellman   \n",
       "3  Waterloo Bridge        1931                           James Whale   \n",
       "4  Heroes for Sale        1933                       William Wellman   \n",
       "\n",
       "             rtable.Name rtable.YearRange gold  \n",
       "0  The Last Man on Earth   1923 1924 1925    0  \n",
       "1              City Girl   1929 1930 1931    0  \n",
       "2         The Conquerors   1931 1932 1933    0  \n",
       "3     The Old Dark House   1931 1932 1933    0  \n",
       "4         The Conquerors   1931 1932 1933    0  "
      ]
     },
     "execution_count": 39,
     "metadata": {},
     "output_type": "execute_result"
    }
   ],
   "source": [
    "label_df.head()"
   ]
  },
  {
   "cell_type": "code",
   "execution_count": 146,
   "id": "approved-alaska",
   "metadata": {},
   "outputs": [],
   "source": [
    "true_matches_count = 0\n",
    "true_matches = []\n",
    "true_movie_matches = []\n",
    "true_dir_matches = []\n",
    "for i in range(len(label_df)):\n",
    "    if label_df.iloc[i]['gold'] == '1':\n",
    "        true_matches_count += 1\n",
    "        true_matches.append((label_df.iloc[i]['ltable.Id'], label_df.iloc[i]['rtable.Id']))\n",
    "        movie_row = {'M1': label_df.iloc[i]['ltable.Name'],\n",
    "                     'M2': label_df.iloc[i]['rtable.Name']}\n",
    "        dir_row = {'D1': label_df.iloc[i]['ltable.Director'],\n",
    "                   'D2': label_df.iloc[i]['rtable.Director']}\n",
    "        \n",
    "        true_movie_matches.append(movie_row)\n",
    "        true_dir_matches.append(dir_row)"
   ]
  },
  {
   "cell_type": "code",
   "execution_count": 147,
   "id": "hourly-grove",
   "metadata": {},
   "outputs": [],
   "source": [
    "true_movie = pd.DataFrame(true_movie_matches)\n",
    "true_dir = pd.DataFrame(true_dir_matches)"
   ]
  },
  {
   "cell_type": "code",
   "execution_count": 148,
   "id": "intensive-ethnic",
   "metadata": {},
   "outputs": [
    {
     "name": "stdout",
     "output_type": "stream",
     "text": [
      "                     M1                    M2\n",
      "0   Pennies from Heaven   Pennies From Heaven\n",
      "1          The Old Maid          The Old Maid\n",
      "2              Fantasia              Fantasia\n",
      "3  Phantom of the Opera  Phantom of the Opera\n",
      "4         Night and Day         Night and Day\n"
     ]
    }
   ],
   "source": [
    "print(true_movie.head())"
   ]
  },
  {
   "cell_type": "code",
   "execution_count": 149,
   "id": "herbal-atmosphere",
   "metadata": {},
   "outputs": [
    {
     "name": "stdout",
     "output_type": "stream",
     "text": [
      "                            D1  \\\n",
      "0             Norman Z. McLeod   \n",
      "1              Edmund Goulding   \n",
      "2  Norman Ferguson,James Algar   \n",
      "3                 Arthur Lubin   \n",
      "4               Michael Curtiz   \n",
      "\n",
      "                                                  D2  \n",
      "0                     Norman McLeod,Norman Z. McLeod  \n",
      "1                                    Edmund Goulding  \n",
      "2  Deems Taylor,Hugh Douglas,Julietta Novis,Leopo...  \n",
      "3                     Anthony D.P. Mann,Arthur Lubin  \n",
      "4                                     Michael Curtiz  \n"
     ]
    }
   ],
   "source": [
    "print(true_dir.head())"
   ]
  },
  {
   "cell_type": "code",
   "execution_count": 55,
   "id": "incorporated-style",
   "metadata": {},
   "outputs": [
    {
     "name": "stdout",
     "output_type": "stream",
     "text": [
      "190\n",
      "[('tt0028092', 'pennies_from_heaven_1936'), ('tt0031750', 'old_maid'), ('tt0032455', 'fantasia'), ('tt0036261', 'phantom_of_the_opera_1943'), ('tt0038776', '1015000-night_and_day')]\n"
     ]
    }
   ],
   "source": [
    "print(true_matches_count)\n",
    "print(true_matches[:5])"
   ]
  },
  {
   "cell_type": "code",
   "execution_count": 56,
   "id": "prerequisite-growth",
   "metadata": {},
   "outputs": [],
   "source": [
    "import csv"
   ]
  },
  {
   "cell_type": "code",
   "execution_count": 158,
   "id": "peaceful-cause",
   "metadata": {},
   "outputs": [
    {
     "name": "stdout",
     "output_type": "stream",
     "text": [
      "164\n",
      "39096\n"
     ]
    }
   ],
   "source": [
    "cmp_pairs = 0\n",
    "pair_count = 0\n",
    "\n",
    "seen = set()\n",
    "blocks = []\n",
    "movies = []\n",
    "dirs = []\n",
    "    \n",
    "all_pairs = rltk.get_record_pairs(rt_ds, imdb_ds, block=block)\n",
    "for rt_rec, imdb_rec in all_pairs:\n",
    "    cmp_pairs += 1\n",
    "\n",
    "    rt_director_id = u_dirs.loc[u_dirs['Director'] == rt_rec.director]['Director_code'].values[0]\n",
    "    imdb_director_id = u_dirs.loc[u_dirs['Director'] == imdb_rec.director]['Director_code'].values[0]\n",
    "    \n",
    "    rt_title_id = u_names.loc[u_names['Name'] == rt_rec.title]['Name_code'].values[0]\n",
    "    imdb_title_id = u_names.loc[u_names['Name'] == imdb_rec.title]['Name_code'].values[0]\n",
    "\n",
    "    dir_pair = (rt_director_id, imdb_director_id)\n",
    "    if dir_pair not in seen:\n",
    "        seen.add(dir_pair)\n",
    "        block_row = {'D': rt_director_id,\n",
    "                     'block': rt_rec.director_last}\n",
    "        block_row = {'D': imdb_director_id,\n",
    "                     'block': rt_rec.director_last}\n",
    "        blocks.append(block_row)\n",
    "        \n",
    "    dir_row = {'D1': rt_director_id,\n",
    "               'D2': imdb_director_id}\n",
    "    dirs.append(dir_row)\n",
    "\n",
    "    movie_row = {'M1': rt_title_id,\n",
    "                 'M2': imdb_title_id}\n",
    "    movies.append(movie_row)\n",
    "\n",
    "    pair = (rt_rec.id, imdb_rec.id)\n",
    "    if pair in true_matches:\n",
    "        pair_count += 1\n",
    "\n",
    "pd.DataFrame(blocks).to_csv('./data/director_block_obs.txt', sep='\\t', header=False, index=False)\n",
    "pd.DataFrame(dirs).to_csv('./data/director_target.txt', sep='\\t', header=False, index=False)\n",
    "pd.DataFrame(movies).to_csv('./data/movie_target.txt', sep='\\t', header=False, index=False)\n",
    "            \n",
    "print(pair_count)\n",
    "print(cmp_pairs)"
   ]
  },
  {
   "cell_type": "code",
   "execution_count": null,
   "id": "arbitrary-constitution",
   "metadata": {},
   "outputs": [],
   "source": [
    "pd.DataFrame(blocks).drop_duplicates().to_csv('./data/director_block_obs.txt', sep='\\t', header=False, index=False)\n",
    "pd.DataFrame(dirs).drop_duplicates().to_csv('./data/director_target.txt', sep='\\t', header=False, index=False)\n",
    "pd.DataFrame(movies).drop_duplicates().to_csv('./data/movie_target.txt', sep='\\t', header=False, index=False)"
   ]
  },
  {
   "cell_type": "code",
   "execution_count": 103,
   "id": "electric-generation",
   "metadata": {},
   "outputs": [
    {
     "name": "stdout",
     "output_type": "stream",
     "text": [
      "16842\n",
      "13125\n"
     ]
    }
   ],
   "source": [
    "# all_movie_director = pd.DataFrame(columns=['Name', 'Director'])\n",
    "print(len(all_split_code))\n",
    "movie_director = all_split_code.drop_duplicates()\n",
    "print(len(movie_director))"
   ]
  },
  {
   "cell_type": "code",
   "execution_count": 145,
   "id": "occasional-profession",
   "metadata": {},
   "outputs": [],
   "source": [
    "movie_director[['Director_code', 'Name_code']].to_csv('./data/directorOf_obs.txt', sep='\\t', header=False, index=False)"
   ]
  },
  {
   "cell_type": "code",
   "execution_count": 132,
   "id": "referenced-steal",
   "metadata": {},
   "outputs": [],
   "source": [
    "all_pairs = rltk.get_record_pairs(rt_ds, imdb_ds, block=block)\n",
    "name_rows = []\n",
    "name_seen = set()\n",
    "\n",
    "director_rows = []\n",
    "director_seen = set()\n",
    "for rt_rec, imdb_rec in all_pairs:\n",
    "#     rt_title_id = u_names.loc[u_names['Name'] == rt_rec.title]['Name_code'].values[0]\n",
    "#     imdb_title_id = u_names.loc[u_names['Name'] == imdb_rec.title]['Name_code'].values[0]\n",
    "#     print(rt_title_id)\n",
    "#     print(imdb_title_id)\n",
    "    \n",
    "    pair = (rt_rec.title, imdb_rec.title)\n",
    "    if pair not in name_seen:\n",
    "        name_seen.add(pair)\n",
    "        title_score = rltk.jaro_distance(rt_rec.title, imdb_rec.title)\n",
    "    \n",
    "        row = {'T1': rt_rec.title,\n",
    "               'T2': imdb_rec.title,\n",
    "               'sim': title_score}\n",
    "\n",
    "        name_rows.append(row)\n",
    "\n",
    "#     rt_director_id = u_dirs.loc[u_dirs['Director'] == rt_rec.director]['Director_code'].values[0]\n",
    "#     imdb_director_id = u_dirs.loc[u_dirs['Director'] == imdb_rec.director]['Director_code'].values[0]\n",
    "#     print(rt_director_id)\n",
    "#     print(imdb_director_id)\n",
    "#     break\n",
    "    \n",
    "    pair = (rt_rec.director, imdb_rec.director)\n",
    "    if pair not in director_seen:\n",
    "        director_seen.add(pair)\n",
    "        director_score = rltk.jaro_winkler_similarity(rt_rec.director, imdb_rec.director)\n",
    "        row = {'N1': rt_rec.director,\n",
    "               'N2': imdb_rec.director,\n",
    "               'sim': director_score}\n",
    "\n",
    "        director_rows.append(row)\n",
    "\n",
    "name_cmp = pd.DataFrame(name_rows)\n",
    "direct_cmp = pd.DataFrame(director_rows)"
   ]
  },
  {
   "cell_type": "code",
   "execution_count": 133,
   "id": "small-application",
   "metadata": {},
   "outputs": [
    {
     "name": "stdout",
     "output_type": "stream",
     "text": [
      "38896\n",
      "6119\n"
     ]
    }
   ],
   "source": [
    "print(len(name_cmp))\n",
    "print(len(direct_cmp))"
   ]
  },
  {
   "cell_type": "code",
   "execution_count": 140,
   "id": "detailed-rugby",
   "metadata": {},
   "outputs": [
    {
     "name": "stdout",
     "output_type": "stream",
     "text": [
      "3493\n",
      "2158\n"
     ]
    }
   ],
   "source": [
    "name_cmp_filt = name_cmp[name_cmp['sim'] > 0.85]\n",
    "direct_cmp_filt = direct_cmp[direct_cmp['sim'] > 0.85]\n",
    "\n",
    "print(len(name_cmp_filt))\n",
    "print(len(direct_cmp_filt))"
   ]
  },
  {
   "cell_type": "code",
   "execution_count": 141,
   "id": "sacred-chosen",
   "metadata": {},
   "outputs": [
    {
     "name": "stdout",
     "output_type": "stream",
     "text": [
      "                        T1                   T2       sim\n",
      "7      So Proudly We Hail!  So Proudly We Hail!  1.000000\n",
      "10                 Cynthia              Cynthia  1.000000\n",
      "21            The Divorcee         The Divorcée  0.944444\n",
      "29      Everything Must Go   Everything Must Go  1.000000\n",
      "34           The Stunt Man        The Stunt Man  1.000000\n",
      "...                    ...                  ...       ...\n",
      "38885             Headless             Headless  1.000000\n",
      "38888                 Meru                 Meru  1.000000\n",
      "38890           The Gunman           The Gunman  1.000000\n",
      "38892             Vendetta             Vendetta  1.000000\n",
      "38894           The Runner           The Runner  1.000000\n",
      "\n",
      "[3493 rows x 3 columns]\n"
     ]
    }
   ],
   "source": [
    "print(name_cmp_filt)"
   ]
  },
  {
   "cell_type": "code",
   "execution_count": 142,
   "id": "indonesian-candle",
   "metadata": {},
   "outputs": [
    {
     "name": "stdout",
     "output_type": "stream",
     "text": [
      "                             N1                         N2  sim\n",
      "1                 Mark Sandrich              Mark Sandrich  1.0\n",
      "3             Robert Z. Leonard          Robert Z. Leonard  1.0\n",
      "5                  Richard Rush               Richard Rush  1.0\n",
      "6                      Dan Rush                   Dan Rush  1.0\n",
      "8                   Frank Capra                Frank Capra  1.0\n",
      "...                         ...                        ...  ...\n",
      "6112  Elizabeth Chai Vasarhelyi  Elizabeth Chai Vasarhelyi  1.0\n",
      "6113            Daniel Millican            Daniel Millican  1.0\n",
      "6114               Pierre Morel               Pierre Morel  1.0\n",
      "6116               Sylvia Soska               Sylvia Soska  1.0\n",
      "6117               Austin Stark               Austin Stark  1.0\n",
      "\n",
      "[2158 rows x 3 columns]\n"
     ]
    }
   ],
   "source": [
    "print(direct_cmp_filt)"
   ]
  },
  {
   "cell_type": "code",
   "execution_count": 143,
   "id": "cellular-light",
   "metadata": {},
   "outputs": [],
   "source": [
    "name_cmp_filt.to_csv('./data/sim_movie.txt', sep='\\t', header=False, index=False)\n",
    "direct_cmp_filt.to_csv('./data/sim_dir.txt', sep='\\t', header=False, index=False)"
   ]
  },
  {
   "cell_type": "code",
   "execution_count": null,
   "id": "intelligent-drilling",
   "metadata": {},
   "outputs": [],
   "source": []
  }
 ],
 "metadata": {
  "kernelspec": {
   "display_name": "Python 3",
   "language": "python",
   "name": "python3"
  },
  "language_info": {
   "codemirror_mode": {
    "name": "ipython",
    "version": 3
   },
   "file_extension": ".py",
   "mimetype": "text/x-python",
   "name": "python",
   "nbconvert_exporter": "python",
   "pygments_lexer": "ipython3",
   "version": "3.7.9"
  }
 },
 "nbformat": 4,
 "nbformat_minor": 5
}
