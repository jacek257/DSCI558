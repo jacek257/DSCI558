{
 "cells": [
  {
   "cell_type": "markdown",
   "metadata": {},
   "source": [
    "# Task 1: Using RLTK to perform Entity Resolution (ER)\n",
    "\n",
    "<sub>Content of this notebook was prepared by Basel Shbita (shbita@usc.edu) as part of the class <u>DSCI 558: Building Knowledge Graphs</u> at University of Southern California (USC).</sub>"
   ]
  },
  {
   "cell_type": "markdown",
   "metadata": {},
   "source": [
    "The Record Linkage ToolKit ([RLTK](https://github.com/usc-isi-i2/rltk)) is a general-purpose open-source record linkage platform that allows users to build powerful Python programs that link records referring to the same underlying entity.\n",
    "\n",
    "This notebook introduces some applied examples using RLTK. You can also find additional examples and use-cases in [RLTK's documentation](https://rltk.readthedocs.io/en/master/)."
   ]
  },
  {
   "cell_type": "markdown",
   "metadata": {},
   "source": [
    "## Dataset analysis & RLTK components construction"
   ]
  },
  {
   "cell_type": "code",
   "execution_count": 1,
   "metadata": {},
   "outputs": [
    {
     "name": "stdout",
     "output_type": "stream",
     "text": [
      "Requirement already satisfied: rltk in /mnt/c/Users/Clapika/anaconda3/lib/python3.8/site-packages (2.0.0a15)\n",
      "Requirement already satisfied: scipy>=1.1.0 in /mnt/c/Users/Clapika/anaconda3/lib/python3.8/site-packages (from rltk) (1.5.0)\n",
      "Requirement already satisfied: pyrallel.lib in /mnt/c/Users/Clapika/anaconda3/lib/python3.8/site-packages (from rltk) (0.0.9)\n",
      "Requirement already satisfied: distributed>=1.23 in /mnt/c/Users/Clapika/anaconda3/lib/python3.8/site-packages (from rltk) (2.20.0)\n",
      "Requirement already satisfied: Cython>=0.28.0 in /mnt/c/Users/Clapika/anaconda3/lib/python3.8/site-packages (from rltk) (0.29.21)\n",
      "Requirement already satisfied: matplotlib>=2.0.0 in /mnt/c/Users/Clapika/anaconda3/lib/python3.8/site-packages (from rltk) (3.2.2)\n",
      "Requirement already satisfied: dask>=0.19.2 in /mnt/c/Users/Clapika/anaconda3/lib/python3.8/site-packages (from rltk) (2.20.0)\n",
      "Requirement already satisfied: numpy>=1.12.0 in /mnt/c/Users/Clapika/anaconda3/lib/python3.8/site-packages (from rltk) (1.18.5)\n",
      "Requirement already satisfied: pandas>=0.20.0 in /mnt/c/Users/Clapika/anaconda3/lib/python3.8/site-packages (from rltk) (1.0.5)\n",
      "Requirement already satisfied: multiprocess>=0.70 in /mnt/c/Users/Clapika/anaconda3/lib/python3.8/site-packages (from pyrallel.lib->rltk) (0.70.11.1)\n",
      "Requirement already satisfied: typing>=3.6 in /mnt/c/Users/Clapika/anaconda3/lib/python3.8/site-packages (from pyrallel.lib->rltk) (3.7.4.3)\n",
      "Requirement already satisfied: dill>=0.3 in /mnt/c/Users/Clapika/anaconda3/lib/python3.8/site-packages (from pyrallel.lib->rltk) (0.3.3)\n",
      "Requirement already satisfied: cloudpickle>=1.3.0 in /mnt/c/Users/Clapika/anaconda3/lib/python3.8/site-packages (from distributed>=1.23->rltk) (1.5.0)\n",
      "Requirement already satisfied: pyyaml in /mnt/c/Users/Clapika/anaconda3/lib/python3.8/site-packages (from distributed>=1.23->rltk) (5.3.1)\n",
      "Requirement already satisfied: setuptools in /mnt/c/Users/Clapika/anaconda3/lib/python3.8/site-packages (from distributed>=1.23->rltk) (49.2.0.post20200714)\n",
      "Requirement already satisfied: tblib>=1.6.0 in /mnt/c/Users/Clapika/anaconda3/lib/python3.8/site-packages (from distributed>=1.23->rltk) (1.6.0)\n",
      "Requirement already satisfied: zict>=0.1.3 in /mnt/c/Users/Clapika/anaconda3/lib/python3.8/site-packages (from distributed>=1.23->rltk) (2.0.0)\n",
      "Requirement already satisfied: click>=6.6 in /mnt/c/Users/Clapika/anaconda3/lib/python3.8/site-packages (from distributed>=1.23->rltk) (7.1.2)\n",
      "Requirement already satisfied: sortedcontainers!=2.0.0,!=2.0.1 in /mnt/c/Users/Clapika/anaconda3/lib/python3.8/site-packages (from distributed>=1.23->rltk) (2.2.2)\n",
      "Requirement already satisfied: msgpack>=0.6.0 in /mnt/c/Users/Clapika/anaconda3/lib/python3.8/site-packages (from distributed>=1.23->rltk) (1.0.0)\n",
      "Requirement already satisfied: psutil>=5.0 in /mnt/c/Users/Clapika/anaconda3/lib/python3.8/site-packages (from distributed>=1.23->rltk) (5.7.0)\n",
      "Requirement already satisfied: tornado>=6.0.3; python_version >= \"3.8\" in /mnt/c/Users/Clapika/anaconda3/lib/python3.8/site-packages (from distributed>=1.23->rltk) (6.0.4)\n",
      "Requirement already satisfied: toolz>=0.8.2 in /mnt/c/Users/Clapika/anaconda3/lib/python3.8/site-packages (from distributed>=1.23->rltk) (0.10.0)\n",
      "Requirement already satisfied: pyparsing!=2.0.4,!=2.1.2,!=2.1.6,>=2.0.1 in /mnt/c/Users/Clapika/anaconda3/lib/python3.8/site-packages (from matplotlib>=2.0.0->rltk) (2.4.7)\n",
      "Requirement already satisfied: cycler>=0.10 in /mnt/c/Users/Clapika/anaconda3/lib/python3.8/site-packages (from matplotlib>=2.0.0->rltk) (0.10.0)\n",
      "Requirement already satisfied: kiwisolver>=1.0.1 in /mnt/c/Users/Clapika/anaconda3/lib/python3.8/site-packages (from matplotlib>=2.0.0->rltk) (1.2.0)\n",
      "Requirement already satisfied: python-dateutil>=2.1 in /mnt/c/Users/Clapika/anaconda3/lib/python3.8/site-packages (from matplotlib>=2.0.0->rltk) (2.8.1)\n",
      "Requirement already satisfied: pytz>=2017.2 in /mnt/c/Users/Clapika/anaconda3/lib/python3.8/site-packages (from pandas>=0.20.0->rltk) (2020.1)\n",
      "Requirement already satisfied: heapdict in /mnt/c/Users/Clapika/anaconda3/lib/python3.8/site-packages (from zict>=0.1.3->distributed>=1.23->rltk) (1.0.1)\n",
      "Requirement already satisfied: six in /mnt/c/Users/Clapika/anaconda3/lib/python3.8/site-packages (from cycler>=0.10->matplotlib>=2.0.0->rltk) (1.15.0)\n"
     ]
    }
   ],
   "source": [
    "!pip install rltk"
   ]
  },
  {
   "cell_type": "markdown",
   "metadata": {},
   "source": [
    "First, you need define how a single entry would like for each type of record (for each dataset)"
   ]
  },
  {
   "cell_type": "code",
   "execution_count": 2,
   "metadata": {},
   "outputs": [],
   "source": [
    "import rltk\n",
    "import json\n",
    "\n",
    "# You can use this tokenizer in case you need to manipulate some data\n",
    "tokenizer = rltk.CrfTokenizer()\n",
    "\n",
    "# RLTK IMDB Record\n",
    "class IMDBRecord(rltk.Record):\n",
    "    def __init__(self, raw_object):\n",
    "        super().__init__(raw_object)\n",
    "        self.name = ''\n",
    "\n",
    "    @rltk.cached_property\n",
    "    def id(self):\n",
    "        return self.raw_object['url']\n",
    "\n",
    "    @rltk.cached_property\n",
    "    def name_string(self):\n",
    "        return self.raw_object['name']\n",
    "\n",
    "    @rltk.cached_property\n",
    "    def name_tokens(self):\n",
    "        return set(tokenizer.tokenize(self.name_string))\n",
    "\n",
    "# RLTK AFI Record\n",
    "class AFIRecord(rltk.Record):\n",
    "    def __init__(self, raw_object):\n",
    "        super().__init__(raw_object)\n",
    "        self.name = ''\n",
    "\n",
    "    @rltk.cached_property\n",
    "    def id(self):\n",
    "        return self.raw_object['url']\n",
    "\n",
    "    @rltk.cached_property\n",
    "    def name_string(self):\n",
    "        return self.raw_object['title']\n",
    "    \n",
    "    @rltk.cached_property\n",
    "    def date_string(self):\n",
    "        return self.raw_object.get('release_date', '')"
   ]
  },
  {
   "cell_type": "markdown",
   "metadata": {},
   "source": [
    "You can load your json-lines files into RLTK using this method:"
   ]
  },
  {
   "cell_type": "code",
   "execution_count": 3,
   "metadata": {},
   "outputs": [],
   "source": [
    "imdb_file = 'imdb.jl'\n",
    "afi_file  = 'afi.jl'\n",
    "\n",
    "# load Datasets\n",
    "ds_imdb = rltk.Dataset(reader=rltk.JsonLinesReader(imdb_file), record_class=IMDBRecord, adapter=rltk.MemoryKeyValueAdapter())\n",
    "ds_afi  = rltk.Dataset(reader=rltk.JsonLinesReader(afi_file),  record_class=AFIRecord,  adapter=rltk.MemoryKeyValueAdapter())"
   ]
  },
  {
   "cell_type": "markdown",
   "metadata": {},
   "source": [
    "And we can inspect a few entries:"
   ]
  },
  {
   "cell_type": "code",
   "execution_count": 4,
   "metadata": {},
   "outputs": [
    {
     "name": "stdout",
     "output_type": "stream",
     "text": [
      "                                      id               name_string  \\\n",
      "0  https://www.imdb.com/title/tt0033467/              Citizen Kane   \n",
      "1  https://www.imdb.com/title/tt0068646/             The Godfather   \n",
      "2  https://www.imdb.com/title/tt0032138/          The Wizard of Oz   \n",
      "3  https://www.imdb.com/title/tt0111161/  The Shawshank Redemption   \n",
      "4  https://www.imdb.com/title/tt0110912/              Pulp Fiction   \n",
      "\n",
      "                    name_tokens  \n",
      "0               {Citizen, Kane}  \n",
      "1              {The, Godfather}  \n",
      "2         {of, Wizard, The, Oz}  \n",
      "3  {Shawshank, The, Redemption}  \n",
      "4               {Pulp, Fiction}  \n",
      "                                                  id  \\\n",
      "0  https://catalog.afi.com/#0d4edc56125f42fde0e02...   \n",
      "1  https://catalog.afi.com/#ca4bcba711e75c8e80216...   \n",
      "2  https://catalog.afi.com/#514aceac24037dcbcbd5c...   \n",
      "3  https://catalog.afi.com/#41a24923501602a537e0f...   \n",
      "4  https://catalog.afi.com/#f0bc574107fa3da879263...   \n",
      "\n",
      "                  name_string    date_string  \n",
      "0  THECPICTURE OF DORIAN GRAY   20 Feb, 1945  \n",
      "1             DOCIOR ZHIVAGO      01/18/1965  \n",
      "2                MADAME CURIE                 \n",
      "3               MRS. MINIVER   22 July, 1942  \n",
      "4        THE GUNS OF NAVPRONE   29 Mar, 1961  \n"
     ]
    }
   ],
   "source": [
    "# print some entries\n",
    "print(ds_imdb.generate_dataframe().head(5))\n",
    "print(ds_afi.generate_dataframe().head(5))"
   ]
  },
  {
   "cell_type": "markdown",
   "metadata": {},
   "source": [
    "## Field (Attribute) Similarity"
   ]
  },
  {
   "cell_type": "markdown",
   "metadata": {},
   "source": [
    "Here are 2 example functions for field (attribute) similarity:"
   ]
  },
  {
   "cell_type": "code",
   "execution_count": 5,
   "metadata": {},
   "outputs": [],
   "source": [
    "def name_string_similarity_1(r_imdb, r_afi):\n",
    "    ''' Example dummy similiary function '''\n",
    "    s1 = r_imdb.name_string[:3]\n",
    "    s2 = r_afi.name_string[:3]\n",
    "    \n",
    "    return rltk.jaro_winkler_similarity(s1, s2)\n",
    "    \n",
    "def name_string_similarity_2(r_imdb, r_afi):\n",
    "    ''' Example dummy similiary function '''\n",
    "    s1 = r_imdb.name_string\n",
    "    s2 = r_afi.name_string\n",
    "    \n",
    "    if s1 == s2:\n",
    "        return 1\n",
    "    \n",
    "    return 0"
   ]
  },
  {
   "cell_type": "markdown",
   "metadata": {},
   "source": [
    "## Entity Linking"
   ]
  },
  {
   "cell_type": "markdown",
   "metadata": {},
   "source": [
    "Here's how you can combine multiple similarity functions into a single weightened scoring function:"
   ]
  },
  {
   "cell_type": "code",
   "execution_count": 6,
   "metadata": {},
   "outputs": [],
   "source": [
    "# threshold value to determine if we are confident the record match\n",
    "MY_TRESH = 0.8 # this number is just an example, you need to change it\n",
    "\n",
    "# entity linkage scoring function\n",
    "def rule_based_method(r_imdb, r_afi):\n",
    "    score_1 = name_string_similarity_1(r_imdb, r_afi)\n",
    "    score_2 = name_string_similarity_2(r_imdb, r_afi)\n",
    "    \n",
    "    total = 0.7 * score_1 + 0.3 * score_2\n",
    "    \n",
    "    # return two values: boolean if they match or not, float to determine confidence\n",
    "    return total > MY_TRESH, total"
   ]
  },
  {
   "cell_type": "markdown",
   "metadata": {},
   "source": [
    "## EL Evaluation"
   ]
  },
  {
   "cell_type": "markdown",
   "metadata": {},
   "source": [
    "Evaluation is a built-in module for benchmarking. Lets load our development set"
   ]
  },
  {
   "cell_type": "code",
   "execution_count": 7,
   "metadata": {},
   "outputs": [
    {
     "ename": "FileNotFoundError",
     "evalue": "[Errno 2] No such file or directory: 'imdb_afi_el.dev.json'",
     "output_type": "error",
     "traceback": [
      "\u001b[0;31m---------------------------------------------------------------------------\u001b[0m",
      "\u001b[0;31mFileNotFoundError\u001b[0m                         Traceback (most recent call last)",
      "\u001b[0;32m<ipython-input-7-768cec77db13>\u001b[0m in \u001b[0;36m<module>\u001b[0;34m\u001b[0m\n\u001b[1;32m      1\u001b[0m \u001b[0;31m# load development set data\u001b[0m\u001b[0;34m\u001b[0m\u001b[0;34m\u001b[0m\u001b[0;34m\u001b[0m\u001b[0m\n\u001b[1;32m      2\u001b[0m \u001b[0mdev_set_file\u001b[0m \u001b[0;34m=\u001b[0m \u001b[0;34m'imdb_afi_el.dev.json'\u001b[0m\u001b[0;34m\u001b[0m\u001b[0;34m\u001b[0m\u001b[0m\n\u001b[0;32m----> 3\u001b[0;31m \u001b[0mdevset_file_handle\u001b[0m \u001b[0;34m=\u001b[0m \u001b[0mopen\u001b[0m\u001b[0;34m(\u001b[0m\u001b[0mdev_set_file\u001b[0m\u001b[0;34m,\u001b[0m \u001b[0;34m\"r\"\u001b[0m\u001b[0;34m)\u001b[0m\u001b[0;34m\u001b[0m\u001b[0;34m\u001b[0m\u001b[0m\n\u001b[0m\u001b[1;32m      4\u001b[0m \u001b[0mdevset_data\u001b[0m \u001b[0;34m=\u001b[0m \u001b[0mjson\u001b[0m\u001b[0;34m.\u001b[0m\u001b[0mload\u001b[0m\u001b[0;34m(\u001b[0m\u001b[0mdevset_file_handle\u001b[0m\u001b[0;34m)\u001b[0m\u001b[0;34m\u001b[0m\u001b[0;34m\u001b[0m\u001b[0m\n",
      "\u001b[0;31mFileNotFoundError\u001b[0m: [Errno 2] No such file or directory: 'imdb_afi_el.dev.json'"
     ]
    }
   ],
   "source": [
    "# load development set data\n",
    "dev_set_file = 'imdb_afi_el.dev.json'\n",
    "devset_file_handle = open(dev_set_file, \"r\")\n",
    "devset_data = json.load(devset_file_handle)"
   ]
  },
  {
   "cell_type": "markdown",
   "metadata": {},
   "source": [
    "And now build a ground truth based on the development set"
   ]
  },
  {
   "cell_type": "code",
   "execution_count": 9,
   "metadata": {},
   "outputs": [
    {
     "ename": "NameError",
     "evalue": "name 'devset_data' is not defined",
     "output_type": "error",
     "traceback": [
      "\u001b[0;31m---------------------------------------------------------------------------\u001b[0m",
      "\u001b[0;31mNameError\u001b[0m                                 Traceback (most recent call last)",
      "\u001b[0;32m<ipython-input-9-cb36d662475f>\u001b[0m in \u001b[0;36m<module>\u001b[0;34m\u001b[0m\n\u001b[1;32m      1\u001b[0m \u001b[0mgt\u001b[0m \u001b[0;34m=\u001b[0m \u001b[0mrltk\u001b[0m\u001b[0;34m.\u001b[0m\u001b[0mGroundTruth\u001b[0m\u001b[0;34m(\u001b[0m\u001b[0;34m)\u001b[0m\u001b[0;34m\u001b[0m\u001b[0;34m\u001b[0m\u001b[0m\n\u001b[0;32m----> 2\u001b[0;31m \u001b[0;32mfor\u001b[0m \u001b[0mitem\u001b[0m \u001b[0;32min\u001b[0m \u001b[0mdevset_data\u001b[0m\u001b[0;34m:\u001b[0m\u001b[0;34m\u001b[0m\u001b[0;34m\u001b[0m\u001b[0m\n\u001b[0m\u001b[1;32m      3\u001b[0m     \u001b[0;32mif\u001b[0m \u001b[0;32mNone\u001b[0m \u001b[0;34m!=\u001b[0m \u001b[0mitem\u001b[0m\u001b[0;34m[\u001b[0m\u001b[0;34m'afi_movie'\u001b[0m\u001b[0;34m]\u001b[0m\u001b[0;34m:\u001b[0m\u001b[0;34m\u001b[0m\u001b[0;34m\u001b[0m\u001b[0m\n\u001b[1;32m      4\u001b[0m         \u001b[0mr_imdb\u001b[0m \u001b[0;34m=\u001b[0m \u001b[0mds_imdb\u001b[0m\u001b[0;34m.\u001b[0m\u001b[0mget_record\u001b[0m\u001b[0;34m(\u001b[0m\u001b[0mitem\u001b[0m\u001b[0;34m[\u001b[0m\u001b[0;34m'imdb_movie'\u001b[0m\u001b[0;34m]\u001b[0m\u001b[0;34m)\u001b[0m\u001b[0;34m\u001b[0m\u001b[0;34m\u001b[0m\u001b[0m\n\u001b[1;32m      5\u001b[0m         \u001b[0mr_afi\u001b[0m  \u001b[0;34m=\u001b[0m \u001b[0mds_afi\u001b[0m\u001b[0;34m.\u001b[0m\u001b[0mget_record\u001b[0m\u001b[0;34m(\u001b[0m\u001b[0mitem\u001b[0m\u001b[0;34m[\u001b[0m\u001b[0;34m'afi_movie'\u001b[0m\u001b[0;34m]\u001b[0m\u001b[0;34m)\u001b[0m\u001b[0;34m\u001b[0m\u001b[0;34m\u001b[0m\u001b[0m\n",
      "\u001b[0;31mNameError\u001b[0m: name 'devset_data' is not defined"
     ]
    }
   ],
   "source": [
    "gt = rltk.GroundTruth()\n",
    "for item in devset_data:\n",
    "    if None != item['afi_movie']:\n",
    "        r_imdb = ds_imdb.get_record(item['imdb_movie'])\n",
    "        r_afi  = ds_afi.get_record(item['afi_movie']) \n",
    "        gt.add_positive(r_imdb.raw_object['url'], r_afi.raw_object['url'])\n",
    "gt.generate_all_negatives(ds_imdb, ds_afi, range_in_gt=True)"
   ]
  },
  {
   "cell_type": "markdown",
   "metadata": {},
   "source": [
    "Lets run some candidates using the ground-truth"
   ]
  },
  {
   "cell_type": "code",
   "execution_count": 10,
   "metadata": {},
   "outputs": [
    {
     "ename": "KeyError",
     "evalue": "'Not in ground truth'",
     "output_type": "error",
     "traceback": [
      "\u001b[0;31m---------------------------------------------------------------------------\u001b[0m",
      "\u001b[0;31mKeyError\u001b[0m                                  Traceback (most recent call last)",
      "\u001b[0;32m<ipython-input-10-2774f442e2db>\u001b[0m in \u001b[0;36m<module>\u001b[0;34m\u001b[0m\n\u001b[1;32m      3\u001b[0m \u001b[0;32mfor\u001b[0m \u001b[0mr_imdb\u001b[0m\u001b[0;34m,\u001b[0m \u001b[0mr_afi\u001b[0m \u001b[0;32min\u001b[0m \u001b[0mcandidate_pairs\u001b[0m\u001b[0;34m:\u001b[0m\u001b[0;34m\u001b[0m\u001b[0;34m\u001b[0m\u001b[0m\n\u001b[1;32m      4\u001b[0m     \u001b[0mresult\u001b[0m\u001b[0;34m,\u001b[0m \u001b[0mconfidence\u001b[0m \u001b[0;34m=\u001b[0m \u001b[0mrule_based_method\u001b[0m\u001b[0;34m(\u001b[0m\u001b[0mr_imdb\u001b[0m\u001b[0;34m,\u001b[0m \u001b[0mr_afi\u001b[0m\u001b[0;34m)\u001b[0m\u001b[0;34m\u001b[0m\u001b[0;34m\u001b[0m\u001b[0m\n\u001b[0;32m----> 5\u001b[0;31m     \u001b[0mtrial\u001b[0m\u001b[0;34m.\u001b[0m\u001b[0madd_result\u001b[0m\u001b[0;34m(\u001b[0m\u001b[0mr_imdb\u001b[0m\u001b[0;34m,\u001b[0m \u001b[0mr_afi\u001b[0m\u001b[0;34m,\u001b[0m \u001b[0mresult\u001b[0m\u001b[0;34m,\u001b[0m \u001b[0mconfidence\u001b[0m\u001b[0;34m)\u001b[0m\u001b[0;34m\u001b[0m\u001b[0;34m\u001b[0m\u001b[0m\n\u001b[0m",
      "\u001b[0;32m/mnt/c/Users/Clapika/anaconda3/lib/python3.8/site-packages/rltk/evaluation/trial.py\u001b[0m in \u001b[0;36madd_result\u001b[0;34m(self, record1, record2, is_positive, confidence, **kwargs)\u001b[0m\n\u001b[1;32m    238\u001b[0m             \u001b[0mconfidence\u001b[0m \u001b[0;34m(\u001b[0m\u001b[0mfloat\u001b[0m\u001b[0;34m)\u001b[0m\u001b[0;34m:\u001b[0m \u001b[0mthe\u001b[0m \u001b[0mprobability\u001b[0m \u001b[0mof\u001b[0m \u001b[0mpositive\u001b[0m\u001b[0;34m\u001b[0m\u001b[0;34m\u001b[0m\u001b[0m\n\u001b[1;32m    239\u001b[0m         \"\"\"\n\u001b[0;32m--> 240\u001b[0;31m         \u001b[0;32mif\u001b[0m \u001b[0mconfidence\u001b[0m \u001b[0;34m>=\u001b[0m \u001b[0mself\u001b[0m\u001b[0;34m.\u001b[0m\u001b[0m_min_confidence\u001b[0m \u001b[0;32mand\u001b[0m \u001b[0;34m(\u001b[0m\u001b[0mself\u001b[0m\u001b[0;34m.\u001b[0m\u001b[0m_ground_truth\u001b[0m\u001b[0;34m.\u001b[0m\u001b[0mget_label\u001b[0m\u001b[0;34m(\u001b[0m\u001b[0mrecord1\u001b[0m\u001b[0;34m.\u001b[0m\u001b[0mid\u001b[0m\u001b[0;34m,\u001b[0m \u001b[0mrecord2\u001b[0m\u001b[0;34m.\u001b[0m\u001b[0mid\u001b[0m\u001b[0;34m)\u001b[0m \u001b[0;32mis\u001b[0m \u001b[0;32mnot\u001b[0m \u001b[0;32mNone\u001b[0m\u001b[0;34m)\u001b[0m\u001b[0;34m:\u001b[0m\u001b[0;34m\u001b[0m\u001b[0;34m\u001b[0m\u001b[0m\n\u001b[0m\u001b[1;32m    241\u001b[0m             \u001b[0;32mif\u001b[0m \u001b[0mself\u001b[0m\u001b[0;34m.\u001b[0m\u001b[0m_top_k\u001b[0m \u001b[0;34m==\u001b[0m \u001b[0;36m0\u001b[0m \u001b[0;32mor\u001b[0m \u001b[0mlen\u001b[0m\u001b[0;34m(\u001b[0m\u001b[0mself\u001b[0m\u001b[0;34m.\u001b[0m\u001b[0m_results\u001b[0m\u001b[0;34m)\u001b[0m \u001b[0;34m<\u001b[0m \u001b[0mself\u001b[0m\u001b[0;34m.\u001b[0m\u001b[0m_top_k\u001b[0m\u001b[0;34m:\u001b[0m\u001b[0;34m\u001b[0m\u001b[0;34m\u001b[0m\u001b[0m\n\u001b[1;32m    242\u001b[0m                 \u001b[0mcur\u001b[0m \u001b[0;34m=\u001b[0m \u001b[0mself\u001b[0m\u001b[0;34m.\u001b[0m\u001b[0mResult\u001b[0m\u001b[0;34m(\u001b[0m\u001b[0mrecord1\u001b[0m\u001b[0;34m,\u001b[0m \u001b[0mrecord2\u001b[0m\u001b[0;34m,\u001b[0m \u001b[0mis_positive\u001b[0m\u001b[0;34m,\u001b[0m \u001b[0mconfidence\u001b[0m\u001b[0;34m,\u001b[0m \u001b[0;34m**\u001b[0m\u001b[0mkwargs\u001b[0m\u001b[0;34m)\u001b[0m\u001b[0;34m\u001b[0m\u001b[0;34m\u001b[0m\u001b[0m\n",
      "\u001b[0;32m/mnt/c/Users/Clapika/anaconda3/lib/python3.8/site-packages/rltk/evaluation/ground_truth.py\u001b[0m in \u001b[0;36mget_label\u001b[0;34m(self, id1, id2)\u001b[0m\n\u001b[1;32m    108\u001b[0m             \u001b[0;32mif\u001b[0m \u001b[0mself\u001b[0m\u001b[0;34m.\u001b[0m\u001b[0m_negative_if_not_exists\u001b[0m\u001b[0;34m:\u001b[0m\u001b[0;34m\u001b[0m\u001b[0;34m\u001b[0m\u001b[0m\n\u001b[1;32m    109\u001b[0m                 \u001b[0;32mreturn\u001b[0m \u001b[0;32mFalse\u001b[0m\u001b[0;34m\u001b[0m\u001b[0;34m\u001b[0m\u001b[0m\n\u001b[0;32m--> 110\u001b[0;31m             \u001b[0;32mraise\u001b[0m \u001b[0mKeyError\u001b[0m\u001b[0;34m(\u001b[0m\u001b[0;34m'Not in ground truth'\u001b[0m\u001b[0;34m)\u001b[0m\u001b[0;34m\u001b[0m\u001b[0;34m\u001b[0m\u001b[0m\n\u001b[0m\u001b[1;32m    111\u001b[0m         \u001b[0mkey\u001b[0m \u001b[0;34m=\u001b[0m \u001b[0mself\u001b[0m\u001b[0;34m.\u001b[0m\u001b[0mencode_ids\u001b[0m\u001b[0;34m(\u001b[0m\u001b[0mid1\u001b[0m\u001b[0;34m,\u001b[0m \u001b[0mid2\u001b[0m\u001b[0;34m)\u001b[0m\u001b[0;34m\u001b[0m\u001b[0;34m\u001b[0m\u001b[0m\n\u001b[1;32m    112\u001b[0m         \u001b[0;32mreturn\u001b[0m \u001b[0mself\u001b[0m\u001b[0;34m.\u001b[0m\u001b[0m_ground_truth_data\u001b[0m\u001b[0;34m.\u001b[0m\u001b[0mget\u001b[0m\u001b[0;34m(\u001b[0m\u001b[0mkey\u001b[0m\u001b[0;34m)\u001b[0m\u001b[0;34m\u001b[0m\u001b[0;34m\u001b[0m\u001b[0m\n",
      "\u001b[0;31mKeyError\u001b[0m: 'Not in ground truth'"
     ]
    }
   ],
   "source": [
    "trial = rltk.Trial(gt)\n",
    "candidate_pairs = rltk.get_record_pairs(ds_imdb, ds_afi, ground_truth=gt)\n",
    "for r_imdb, r_afi in candidate_pairs:\n",
    "    result, confidence = rule_based_method(r_imdb, r_afi)\n",
    "    trial.add_result(r_imdb, r_afi, result, confidence)"
   ]
  },
  {
   "cell_type": "markdown",
   "metadata": {},
   "source": [
    "Now lets evaluate our trial results"
   ]
  },
  {
   "cell_type": "code",
   "execution_count": 11,
   "metadata": {},
   "outputs": [
    {
     "name": "stdout",
     "output_type": "stream",
     "text": [
      "Trial statistics based on Ground-Truth from development set data:\n",
      "tp: 0.000000 [0]\n",
      "fp: 0.000000 [0]\n",
      "tn: 0.000000 [0]\n",
      "fn: 0.000000 [0]\n"
     ]
    }
   ],
   "source": [
    "trial.evaluate()\n",
    "print('Trial statistics based on Ground-Truth from development set data:')\n",
    "print(f'tp: {trial.true_positives:.06f} [{len(trial.true_positives_list)}]')\n",
    "print(f'fp: {trial.false_positives:.06f} [{len(trial.false_positives_list)}]')\n",
    "print(f'tn: {trial.true_negatives:.06f} [{len(trial.true_negatives_list)}]')\n",
    "print(f'fn: {trial.false_negatives:.06f} [{len(trial.false_negatives_list)}]')"
   ]
  },
  {
   "cell_type": "markdown",
   "metadata": {},
   "source": [
    "# Task 2: Using RDFLib for Knowledge Representation"
   ]
  },
  {
   "cell_type": "markdown",
   "metadata": {},
   "source": [
    "RDFLib is a Python library for working with RDF, a simple yet powerful language for representing information as graphs. RDFLib aims to be a pythonic RDF API, a Graph is a python collection of RDF Subject, Predicate,  Object Triples.\n",
    "\n",
    "This notebook introduces simple examples. You can also find additional information in the [official documenation](https://rdflib.readthedocs.io/en/stable/)."
   ]
  },
  {
   "cell_type": "code",
   "execution_count": 15,
   "metadata": {},
   "outputs": [
    {
     "name": "stdout",
     "output_type": "stream",
     "text": [
      "Collecting rdflib\n",
      "  Downloading rdflib-5.0.0-py3-none-any.whl (231 kB)\n",
      "\u001b[K     |████████████████████████████████| 231 kB 3.3 MB/s \n",
      "\u001b[?25hCollecting isodate\n",
      "  Downloading isodate-0.6.0-py2.py3-none-any.whl (45 kB)\n",
      "\u001b[K     |████████████████████████████████| 45 kB 3.6 MB/s \n",
      "\u001b[?25hRequirement already satisfied: pyparsing in /mnt/c/Users/Clapika/anaconda3/lib/python3.8/site-packages (from rdflib) (2.4.7)\n",
      "Requirement already satisfied: six in /mnt/c/Users/Clapika/anaconda3/lib/python3.8/site-packages (from rdflib) (1.15.0)\n",
      "Installing collected packages: isodate, rdflib\n",
      "Successfully installed isodate-0.6.0 rdflib-5.0.0\n"
     ]
    }
   ],
   "source": [
    "!   pip install rdflib"
   ]
  },
  {
   "cell_type": "code",
   "execution_count": 16,
   "metadata": {},
   "outputs": [],
   "source": [
    "from rdflib import Graph, URIRef, Literal, XSD, Namespace, RDF"
   ]
  },
  {
   "cell_type": "markdown",
   "metadata": {},
   "source": [
    "Let's define some namespaces:"
   ]
  },
  {
   "cell_type": "code",
   "execution_count": 17,
   "metadata": {},
   "outputs": [],
   "source": [
    "FOAF = Namespace('http://xmlns.com/foaf/0.1/')\n",
    "MYNS = Namespace('http://inf558.org/myfakenamespace#')"
   ]
  },
  {
   "cell_type": "markdown",
   "metadata": {},
   "source": [
    "We can create a graph:"
   ]
  },
  {
   "cell_type": "code",
   "execution_count": 18,
   "metadata": {},
   "outputs": [],
   "source": [
    "my_kg = Graph()\n",
    "my_kg.bind('myns', MYNS)\n",
    "my_kg.bind('foaf', FOAF)"
   ]
  },
  {
   "cell_type": "markdown",
   "metadata": {},
   "source": [
    "Define a URI, then add a simple triple to the graph:"
   ]
  },
  {
   "cell_type": "code",
   "execution_count": 19,
   "metadata": {},
   "outputs": [],
   "source": [
    "node_uri = URIRef(MYNS['inf558_production_company'])\n",
    "my_kg.add((node_uri, RDF.type, MYNS['productionCompany']))"
   ]
  },
  {
   "cell_type": "markdown",
   "metadata": {},
   "source": [
    "Add an additional triple (which describes the same subject, `node_uri`):"
   ]
  },
  {
   "cell_type": "code",
   "execution_count": 20,
   "metadata": {},
   "outputs": [],
   "source": [
    "my_kg.add((node_uri, FOAF['name'], Literal('INF 558 Production Company')))"
   ]
  },
  {
   "cell_type": "markdown",
   "metadata": {},
   "source": [
    "And now let's dump our graph triples into some `ttl` file:"
   ]
  },
  {
   "cell_type": "code",
   "execution_count": 21,
   "metadata": {},
   "outputs": [],
   "source": [
    "my_kg.serialize('sample_graph.ttl', format=\"turtle\")"
   ]
  }
 ],
 "metadata": {
  "kernelspec": {
   "display_name": "Python 3",
   "language": "python",
   "name": "python3"
  },
  "language_info": {
   "codemirror_mode": {
    "name": "ipython",
    "version": 3
   },
   "file_extension": ".py",
   "mimetype": "text/x-python",
   "name": "python",
   "nbconvert_exporter": "python",
   "pygments_lexer": "ipython3",
   "version": "3.7.9"
  }
 },
 "nbformat": 4,
 "nbformat_minor": 2
}
